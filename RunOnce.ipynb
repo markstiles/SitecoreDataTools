{
 "cells": [
  {
   "cell_type": "code",
   "execution_count": null,
   "id": "2798e0ea",
   "metadata": {},
   "outputs": [],
   "source": [
    "%pip install pypyodbc\n",
    "%pip install scipy\n",
    "%pip install pandas\n",
    "%pip install pyyaml\n",
    "%pip install matplotlib\n",
    "%pip install seaborn\n",
    "%pip install joypy\n",
    "%pip install folium\n",
    "%pip install sqlalchemy\n",
    "%pip install pyyaml\n",
    "%pip install dbt.core\n",
    "%pip install dbt-sqlserver\n",
    "%pip install duckdb"
   ]
  }
 ],
 "metadata": {
  "kernelspec": {
   "display_name": "base",
   "language": "python",
   "name": "python3"
  },
  "language_info": {
   "codemirror_mode": {
    "name": "ipython",
    "version": 3
   },
   "file_extension": ".py",
   "mimetype": "text/x-python",
   "name": "python",
   "nbconvert_exporter": "python",
   "pygments_lexer": "ipython3",
   "version": "3.12.4"
  }
 },
 "nbformat": 4,
 "nbformat_minor": 5
}
