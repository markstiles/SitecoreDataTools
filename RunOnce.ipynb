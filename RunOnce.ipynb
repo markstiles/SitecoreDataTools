{
 "cells": [
  {
   "cell_type": "markdown",
   "metadata": {},
   "source": [
    "# Setup\n",
    "This is a one-time setup to get your environment ready"
   ]
  },
  {
   "cell_type": "markdown",
   "metadata": {},
   "source": [
    "# Packages\n",
    "This downloads the 3rd-party packages you need"
   ]
  },
  {
   "cell_type": "code",
   "execution_count": null,
   "id": "2798e0ea",
   "metadata": {},
   "outputs": [],
   "source": [
    "%pip install ipykernel\n",
    "%pip install pypyodbc\n",
    "%pip install scipy\n",
    "%pip install pandas\n",
    "%pip install pyyaml\n",
    "%pip install matplotlib\n",
    "%pip install seaborn\n",
    "%pip install joypy\n",
    "%pip install folium\n",
    "%pip install plotly\n",
    "%pip install nbformat\n",
    "%pip install sqlalchemy\n",
    "%pip install pyyaml\n",
    "%pip install dbt.core\n",
    "%pip install dbt-sqlserver\n",
    "%pip install duckdb"
   ]
  },
  {
   "cell_type": "markdown",
   "metadata": {},
   "source": [
    "# Manual Steps\n",
    "Go to the terminal and run these commands"
   ]
  },
  {
   "cell_type": "code",
   "execution_count": null,
   "metadata": {},
   "outputs": [],
   "source": [
    "# python -m venv env\n",
    "# env\\Scripts\\activate"
   ]
  },
  {
   "cell_type": "markdown",
   "metadata": {},
   "source": [
    "# Environment Check\n",
    "make sure the virtual environment was created and is activated for this project "
   ]
  },
  {
   "cell_type": "code",
   "execution_count": null,
   "metadata": {},
   "outputs": [],
   "source": [
    "# run this and if you're environment is setup correctly you should receive: True\n",
    "import sys\n",
    "print(sys.prefix)\n",
    "\n",
    "sys.prefix != sys.base_prefix"
   ]
  }
 ],
 "metadata": {
  "kernelspec": {
   "display_name": "base",
   "language": "python",
   "name": "python3"
  },
  "language_info": {
   "codemirror_mode": {
    "name": "ipython",
    "version": 3
   },
   "file_extension": ".py",
   "mimetype": "text/x-python",
   "name": "python",
   "nbconvert_exporter": "python",
   "pygments_lexer": "ipython3",
   "version": "3.12.4"
  }
 },
 "nbformat": 4,
 "nbformat_minor": 5
}
