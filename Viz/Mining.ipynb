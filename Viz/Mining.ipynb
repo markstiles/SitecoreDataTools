{
 "cells": [
  {
   "cell_type": "markdown",
   "id": "df2ff684-f9d9-436c-92c2-7e5d03c516dd",
   "metadata": {
    "jp-MarkdownHeadingCollapsed": true,
    "tags": []
   },
   "source": [
    "# Includes"
   ]
  },
  {
   "cell_type": "code",
   "execution_count": null,
   "id": "5c103aae-4ee8-4aea-9e1d-8a84b0676a29",
   "metadata": {},
   "outputs": [],
   "source": [
    "# data frame and computation\n",
    "import pandas as pd\n",
    "import numpy as np\n",
    "import scipy.stats as stats\n",
    "import re\n",
    "\n",
    "# file manipulation\n",
    "import yaml\n",
    "import os\n",
    "\n",
    "# data manipulation\n",
    "from urllib.parse import urlparse\n",
    "\n",
    "# ip lookups\n",
    "import requests\n",
    "\n",
    "# visualization\n",
    "import matplotlib.pyplot as plt\n",
    "from matplotlib.colors import Normalize\n",
    "import matplotlib.ticker as ticker\n",
    "import seaborn as sns\n",
    "import joypy\n",
    "import folium\n",
    "\n",
    "# SQL\n",
    "import pyodbc \n",
    "import sqlalchemy as sa\n",
    "from sqlalchemy.engine import URL\n",
    "from sqlalchemy import create_engine\n",
    "\n",
    "# timing\n",
    "import time"
   ]
  },
  {
   "cell_type": "markdown",
   "metadata": {},
   "source": [
    "# Variables"
   ]
  },
  {
   "cell_type": "code",
   "execution_count": null,
   "metadata": {},
   "outputs": [],
   "source": [
    "server = None\n",
    "port = None\n",
    "warehouse = None\n",
    "shard0 = None\n",
    "shard1 = None\n",
    "items = None\n",
    "username = None\n",
    "password = None\n",
    "\n",
    "target = 'dev'\n",
    "profile = 'sitecore_warehouse'\n",
    "\n",
    "start_path = os.path.expanduser(\"~\\\\.dbt\\\\\")\n",
    "with open(f\"{start_path}profiles.yml\", \"r\", encoding=\"utf-8\") as f: \n",
    "    config = yaml.safe_load(f) \n",
    "    server = config[profile][\"outputs\"][target][\"server\"]\n",
    "    port = config[profile][\"outputs\"][target][\"port\"]\n",
    "    warehouse = config[profile][\"outputs\"][target][\"database\"]\n",
    "    shard0 = config[profile][\"outputs\"][target][\"database_shard0\"]\n",
    "    shard1 = config[profile][\"outputs\"][target][\"database_shard1\"]\n",
    "    items = config[profile][\"outputs\"][target][\"database_items\"]\n",
    "    username = config[profile][\"outputs\"][target][\"user\"]\n",
    "    password = config[profile][\"outputs\"][target][\"password\"]"
   ]
  },
  {
   "cell_type": "markdown",
   "metadata": {},
   "source": [
    "## Colors"
   ]
  },
  {
   "cell_type": "code",
   "execution_count": 3,
   "metadata": {},
   "outputs": [],
   "source": [
    "plot_palette = [\n",
    "    'cornflowerblue', \n",
    "    'mediumslateblue', \n",
    "    'darkorchid', \n",
    "    'darkmagenta', \n",
    "    'mediumvioletred', \n",
    "    'deeppink', \n",
    "    'orangered', \n",
    "    'orange', \n",
    "    'gold', \n",
    "    'yellow', \n",
    "    'greenyellow', \n",
    "    'lime'\n",
    "]\n",
    "\n",
    "plot_palette_hex = [\n",
    "    '#6495ed', \n",
    "    '#7b68ee',\n",
    "    '#9932cc', \n",
    "    '#8b008b', \n",
    "    '#c71585', \n",
    "    '#ff1493', \n",
    "    '#ff4500', \n",
    "    '#ffa500', \n",
    "    '#ffd700', \n",
    "    '#ffff00', \n",
    "    '#adff2f', \n",
    "    '#00ff00'\n",
    "]\n",
    "\n",
    "plot_palette_hex_extended = [\n",
    "    '#3e62a3',\n",
    "    '#6495ed',\n",
    "    '#5a4da8',\n",
    "    '#7b68ee',\n",
    "    '#641e87',\n",
    "    '#9932cc',\n",
    "    '#8b008b',\n",
    "    '#e605e6',\n",
    "    '#800f56',\n",
    "    '#c71585',\n",
    "    '#a80a60',\n",
    "    '#ff1493',\n",
    "    '#b83404',\n",
    "    '#ff4500',\n",
    "    '#bd7b02',\n",
    "    '#ffa500',\n",
    "    '#b59902',\n",
    "    '#ffd700',\n",
    "    '#bfbf02',\n",
    "    '#ffff00',\n",
    "    '#7cb524',\n",
    "    '#adff2f',\n",
    "    '#02b002',\n",
    "    '#00ff00'\n",
    "]\n",
    "\n",
    "grid_gray = '#dddddd'"
   ]
  },
  {
   "cell_type": "code",
   "execution_count": 4,
   "metadata": {},
   "outputs": [
    {
     "name": "stdout",
     "output_type": "stream",
     "text": [
      "cornflowerblue\n"
     ]
    },
    {
     "data": {
      "image/png": "[encoded data removed]",
      "text/plain": [
       "<Figure size 100x100 with 1 Axes>"
      ]
     },
     "metadata": {},
     "output_type": "display_data"
    },
    {
     "name": "stdout",
     "output_type": "stream",
     "text": [
      "mediumslateblue\n"
     ]
    },
    {
     "data": {
      "image/png": "[encoded data removed]",
      "text/plain": [
       "<Figure size 100x100 with 1 Axes>"
      ]
     },
     "metadata": {},
     "output_type": "display_data"
    },
    {
     "name": "stdout",
     "output_type": "stream",
     "text": [
      "darkorchid\n"
     ]
    },
    {
     "data": {
      "image/png": "[encoded data removed]",
      "text/plain": [
       "<Figure size 100x100 with 1 Axes>"
      ]
     },
     "metadata": {},
     "output_type": "display_data"
    },
    {
     "name": "stdout",
     "output_type": "stream",
     "text": [
      "darkmagenta\n"
     ]
    },
    {
     "data": {
      "image/png": "[encoded data removed]",
      "text/plain": [
       "<Figure size 100x100 with 1 Axes>"
      ]
     },
     "metadata": {},
     "output_type": "display_data"
    },
    {
     "name": "stdout",
     "output_type": "stream",
     "text": [
      "mediumvioletred\n"
     ]
    },
    {
     "data": {
      "image/png": "[encoded data removed]",
      "text/plain": [
       "<Figure size 100x100 with 1 Axes>"
      ]
     },
     "metadata": {},
     "output_type": "display_data"
    },
    {
     "name": "stdout",
     "output_type": "stream",
     "text": [
      "deeppink\n"
     ]
    },
    {
     "data": {
      "image/png": "[encoded data removed]",
      "text/plain": [
       "<Figure size 100x100 with 1 Axes>"
      ]
     },
     "metadata": {},
     "output_type": "display_data"
    },
    {
     "name": "stdout",
     "output_type": "stream",
     "text": [
      "orangered\n"
     ]
    },
    {
     "data": {
      "image/png": "[encoded data removed]",
      "text/plain": [
       "<Figure size 100x100 with 1 Axes>"
      ]
     },
     "metadata": {},
     "output_type": "display_data"
    },
    {
     "name": "stdout",
     "output_type": "stream",
     "text": [
      "orange\n"
     ]
    },
    {
     "data": {
      "image/png": "[encoded data removed]",
      "text/plain": [
       "<Figure size 100x100 with 1 Axes>"
      ]
     },
     "metadata": {},
     "output_type": "display_data"
    },
    {
     "name": "stdout",
     "output_type": "stream",
     "text": [
      "gold\n"
     ]
    },
    {
     "data": {
      "image/png": "[encoded data removed]",
      "text/plain": [
       "<Figure size 100x100 with 1 Axes>"
      ]
     },
     "metadata": {},
     "output_type": "display_data"
    },
    {
     "name": "stdout",
     "output_type": "stream",
     "text": [
      "yellow\n"
     ]
    },
    {
     "data": {
      "image/png": "[encoded data removed]",
      "text/plain": [
       "<Figure size 100x100 with 1 Axes>"
      ]
     },
     "metadata": {},
     "output_type": "display_data"
    },
    {
     "name": "stdout",
     "output_type": "stream",
     "text": [
      "greenyellow\n"
     ]
    },
    {
     "data": {
      "image/png": "[encoded data removed]",
      "text/plain": [
       "<Figure size 100x100 with 1 Axes>"
      ]
     },
     "metadata": {},
     "output_type": "display_data"
    },
    {
     "name": "stdout",
     "output_type": "stream",
     "text": [
      "lime\n"
     ]
    },
    {
     "data": {
      "image/png": "[encoded data removed]",
      "text/plain": [
       "<Figure size 100x100 with 1 Axes>"
      ]
     },
     "metadata": {},
     "output_type": "display_data"
    },
    {
     "name": "stdout",
     "output_type": "stream",
     "text": [
      "#6495ed\n"
     ]
    },
    {
     "data": {
      "image/png": "[encoded data removed]",
      "text/plain": [
       "<Figure size 100x100 with 1 Axes>"
      ]
     },
     "metadata": {},
     "output_type": "display_data"
    },
    {
     "name": "stdout",
     "output_type": "stream",
     "text": [
      "#7b68ee\n"
     ]
    },
    {
     "data": {
      "image/png": "[encoded data removed]",
      "text/plain": [
       "<Figure size 100x100 with 1 Axes>"
      ]
     },
     "metadata": {},
     "output_type": "display_data"
    },
    {
     "name": "stdout",
     "output_type": "stream",
     "text": [
      "#9932cc\n"
     ]
    },
    {
     "data": {
      "image/png": "[encoded data removed]",
      "text/plain": [
       "<Figure size 100x100 with 1 Axes>"
      ]
     },
     "metadata": {},
     "output_type": "display_data"
    },
    {
     "name": "stdout",
     "output_type": "stream",
     "text": [
      "#8b008b\n"
     ]
    },
    {
     "data": {
      "image/png": "[encoded data removed]",
      "text/plain": [
       "<Figure size 100x100 with 1 Axes>"
      ]
     },
     "metadata": {},
     "output_type": "display_data"
    },
    {
     "name": "stdout",
     "output_type": "stream",
     "text": [
      "#c71585\n"
     ]
    },
    {
     "data": {
      "image/png": "[encoded data removed]",
      "text/plain": [
       "<Figure size 100x100 with 1 Axes>"
      ]
     },
     "metadata": {},
     "output_type": "display_data"
    },
    {
     "name": "stdout",
     "output_type": "stream",
     "text": [
      "#ff1493\n"
     ]
    },
    {
     "data": {
      "image/png": "[encoded data removed]",
      "text/plain": [
       "<Figure size 100x100 with 1 Axes>"
      ]
     },
     "metadata": {},
     "output_type": "display_data"
    },
    {
     "name": "stdout",
     "output_type": "stream",
     "text": [
      "#ff4500\n"
     ]
    },
    {
     "data": {
      "image/png": "[encoded data removed]",
      "text/plain": [
       "<Figure size 100x100 with 1 Axes>"
      ]
     },
     "metadata": {},
     "output_type": "display_data"
    },
    {
     "name": "stdout",
     "output_type": "stream",
     "text": [
      "#ffa500\n"
     ]
    },
    {
     "data": {
      "image/png": "[encoded data removed]",
      "text/plain": [
       "<Figure size 100x100 with 1 Axes>"
      ]
     },
     "metadata": {},
     "output_type": "display_data"
    },
    {
     "name": "stdout",
     "output_type": "stream",
     "text": [
      "#ffd700\n"
     ]
    },
    {
     "data": {
      "image/png": "[encoded data removed]",
      "text/plain": [
       "<Figure size 100x100 with 1 Axes>"
      ]
     },
     "metadata": {},
     "output_type": "display_data"
    },
    {
     "name": "stdout",
     "output_type": "stream",
     "text": [
      "#ffff00\n"
     ]
    },
    {
     "data": {
      "image/png": "[encoded data removed]",
      "text/plain": [
       "<Figure size 100x100 with 1 Axes>"
      ]
     },
     "metadata": {},
     "output_type": "display_data"
    },
    {
     "name": "stdout",
     "output_type": "stream",
     "text": [
      "#adff2f\n"
     ]
    },
    {
     "data": {
      "image/png": "[encoded data removed]",
      "text/plain": [
       "<Figure size 100x100 with 1 Axes>"
      ]
     },
     "metadata": {},
     "output_type": "display_data"
    },
    {
     "name": "stdout",
     "output_type": "stream",
     "text": [
      "#00ff00\n"
     ]
    },
    {
     "data": {
      "image/png": "[encoded data removed]",
      "text/plain": [
       "<Figure size 100x100 with 1 Axes>"
      ]
     },
     "metadata": {},
     "output_type": "display_data"
    }
   ],
   "source": [
    "for p in plot_palette:\n",
    "    fig, ax = plt.subplots(figsize=(1, 1))\n",
    "    print(p)\n",
    "    ax.fill_between([0, 1], 0, 1, color=p) \n",
    "    ax.axis('off')\n",
    "    plt.show()\n",
    "\n",
    "for p in plot_palette_hex:\n",
    "    fig, ax = plt.subplots(figsize=(1, 1))\n",
    "    print(p)\n",
    "    ax.fill_between([0, 1], 0, 1, color=p) \n",
    "    ax.axis('off')\n",
    "    plt.show()\n"
   ]
  },
  {
   "cell_type": "markdown",
   "metadata": {},
   "source": [
    "# Functions"
   ]
  },
  {
   "cell_type": "markdown",
   "metadata": {},
   "source": [
    "## Utils"
   ]
  },
  {
   "cell_type": "code",
   "execution_count": 5,
   "metadata": {},
   "outputs": [],
   "source": [
    "def rename_event_columns(data):\n",
    "    data.rename(columns={\n",
    "    'EventType_ChangeProfileScoresEvent':'ChangeProfileScoresEvent',\n",
    "    'EventType_CampaignEvent':'CampaignEvent',\t\n",
    "    'EventType_DownloadEvent':'DownloadEvent',\n",
    "    'EventType_Error':'Error',\n",
    "    'EventType_Event':'Event',\n",
    "    'EventType_Goal':'Goal',\n",
    "    'EventType_MVTestTriggered':'MVTestTriggered',\n",
    "    'EventType_Outcome':'Outcome',\n",
    "    'EventType_PageViewEvent':'PageViewEvent',\n",
    "    'EventType_PersonalizationEvent':'PersonalizationEvent',\n",
    "    'EventType_SearchEvent':'SearchEvent'}, inplace=True)"
   ]
  },
  {
   "cell_type": "code",
   "execution_count": 6,
   "metadata": {},
   "outputs": [],
   "source": [
    "def format_func(x, p):\n",
    "    return f\"{int(x):,}\""
   ]
  },
  {
   "cell_type": "code",
   "execution_count": 7,
   "metadata": {},
   "outputs": [],
   "source": [
    "def get_percent_change(col_1, col_2):\n",
    "    percent_1 = (col_1 / col_1.sum()) * 100\n",
    "    percent_2 = (col_2 / col_2.sum()) * 100\n",
    "    percent_ratio = round(percent_1 / percent_2, 1)\n",
    "\n",
    "    return percent_ratio"
   ]
  },
  {
   "cell_type": "code",
   "execution_count": 603,
   "metadata": {},
   "outputs": [],
   "source": [
    "def set_and_trim_dates(data):\n",
    "    data['Timestamp'] = pd.to_datetime(data['Timestamp'])\n",
    "    data['TimestampSortDate'] = data['Timestamp'].dt.strftime('%Y-%m')\n",
    "\n",
    "    return data"
   ]
  },
  {
   "cell_type": "code",
   "execution_count": null,
   "metadata": {},
   "outputs": [],
   "source": [
    "def print_corr_stats(data, field1, field2, title):\n",
    "    v1_int = [int(x) for x in data[field1]]\n",
    "    v2_int = [int(x) for x in data[field2]]\n",
    "    if(v1_int == [] or v2_int == []):\n",
    "        print('There are no values')\n",
    "        print()\n",
    "        return\n",
    "    \n",
    "    correlation, p_value = stats.pearsonr(v1_int, v2_int)\n",
    "    print(title)\n",
    "    print(f\"Pearson Correlation: {correlation:.2f} for {field1} and {field2}\")\n",
    "    print(f\"P-Value: {p_value}\")\n",
    "    print(f\"Is Valid: {p_value < 0.05}\")\n",
    "    print('')"
   ]
  },
  {
   "cell_type": "markdown",
   "metadata": {},
   "source": [
    "## Plot Hist"
   ]
  },
  {
   "cell_type": "code",
   "execution_count": 9,
   "metadata": {},
   "outputs": [],
   "source": [
    "def plot_horiz_hist(data, field, title=None, x_label=None, single_color=False, size=None):\n",
    "    \n",
    "    # filter out nulls\n",
    "    sub_df = data[~data[field].isna()]\n",
    "\n",
    "    # if numeric then round to int for display\n",
    "    if((pd.api.types.is_numeric_dtype(sub_df[field].dtype)) & (sub_df[field].dtype != bool)):\n",
    "        sub_df[field] = sub_df[field].astype(int)\n",
    "\n",
    "    # get and sort value counts\n",
    "    value_counts = sub_df[field].astype('category').value_counts()\n",
    "    sorted_df = pd.DataFrame({\n",
    "        field: value_counts.index,\n",
    "        'count': value_counts.values\n",
    "    })\n",
    "\n",
    "    # get required colors\n",
    "    palette = plot_palette[:len(sorted_df)]\n",
    "    palette.reverse()\n",
    "    \n",
    "    size = size if size else (12, 6)\n",
    "    plt.figure(figsize=size)\n",
    "    plt.gcf().patch.set_alpha(0)\n",
    "    \n",
    "    if single_color:\n",
    "        bp = sns.barplot(\n",
    "            data=sorted_df,\n",
    "            y=field,\n",
    "            x='count',\n",
    "            color=plot_palette_hex[4],\n",
    "            order=sorted_df[field],\n",
    "            legend=False\n",
    "        )\n",
    "        bp.patch.set_alpha(0)\n",
    "    else:\n",
    "        bp = sns.barplot(\n",
    "            data=sorted_df,\n",
    "            y=field,\n",
    "            x='count',\n",
    "            palette=palette,\n",
    "            order=sorted_df[field],\n",
    "            hue='count',\n",
    "            legend=False\n",
    "        )\n",
    "        bp.patch.set_alpha(0)\n",
    "        \n",
    "    plt.grid(True, axis='x', color=grid_gray)\n",
    "    plt.gca().set_axisbelow(True)\n",
    "    plt.gca().tick_params(axis='x', length=0)\n",
    "        \n",
    "    # remove spines\n",
    "    spines = ['top', 'right', 'bottom']\n",
    "    for s in spines:\n",
    "        plt.gca().spines[s].set_visible(False)\n",
    "    \n",
    "    # set and format labels\n",
    "    plt.gca().xaxis.set_major_formatter(ticker.FuncFormatter(format_func))\n",
    "    plt.title(title if title else f'{field} Distribution')\n",
    "    plt.xlabel(x_label if x_label else '')\n",
    "    plt.ylabel('')\n",
    "    plt.tight_layout()\n",
    "    plt.show()"
   ]
  },
  {
   "cell_type": "code",
   "execution_count": 10,
   "metadata": {},
   "outputs": [],
   "source": [
    "def plot_hist(data, field, sorted=False, title=None, size=None):\n",
    "    \n",
    "    # get and sort value counts\n",
    "    value_counts = data[field].astype('category').value_counts()\n",
    "    sorted_df = pd.DataFrame({\n",
    "        field: value_counts.index,\n",
    "        'count': value_counts.values\n",
    "    })\n",
    "    \n",
    "    # set sort order\n",
    "    sort_order = sorted_df[field] if sorted else None\n",
    "    \n",
    "    size = size if size else (10, 6)\n",
    "    plt.figure(figsize=size)   \n",
    "    plt.gcf().patch.set_alpha(0)\n",
    "    \n",
    "    bp = sns.barplot(\n",
    "        data=sorted_df,\n",
    "        x=field,\n",
    "        y='count',\n",
    "        color=plot_palette[:1][0],\n",
    "        order=sort_order,\n",
    "        legend=False\n",
    "    )\n",
    "    bp.patch.set_alpha(0)\n",
    "    \n",
    "    # remove spines\n",
    "    spines = ['top', 'right', 'left']\n",
    "    for s in spines:\n",
    "        plt.gca().spines[s].set_visible(False)\n",
    "\n",
    "    plt.grid(True, axis='y', color=grid_gray)\n",
    "    plt.gca().set_axisbelow(True)\n",
    "    plt.gca().tick_params(axis='y', length=0)\n",
    "    \n",
    "    # format numeric values with commas\n",
    "    # if numeric then round to int for display\n",
    "    if((pd.api.types.is_numeric_dtype(data[field].dtype)) & (data[field].dtype != bool)):\n",
    "        plt.gca().xaxis.set_major_formatter(ticker.FuncFormatter(format_func))   \n",
    "    plt.gca().yaxis.set_major_formatter(ticker.FuncFormatter(format_func))\n",
    "\n",
    "    # set and format labels\n",
    "    title = title if title else f'{field} Distribution'\n",
    "    plt.title(title)\n",
    "    plt.xlabel('')\n",
    "    plt.xticks(rotation=45, ha='right', rotation_mode='anchor')\n",
    "    plt.ylabel('')\n",
    "    plt.tight_layout()\n",
    "    plt.show()"
   ]
  },
  {
   "cell_type": "code",
   "execution_count": 11,
   "metadata": {},
   "outputs": [],
   "source": [
    "def plot_hist_numeric(data, field, title=None, size=None, x_label=None, y_label=None):\n",
    "    \n",
    "    size = size if size else (10, 6)\n",
    "    plt.figure(figsize=size)   \n",
    "    plt.gcf().patch.set_alpha(0)\n",
    "    \n",
    "    hp = sns.histplot(data[field], bins=10, color=plot_palette_hex[4])\n",
    "    hp.patch.set_alpha(0)\n",
    "    \n",
    "    # remove spines\n",
    "    spines = ['top', 'right', 'left']\n",
    "    for s in spines:\n",
    "        plt.gca().spines[s].set_visible(False)\n",
    "\n",
    "    plt.grid(True, axis='y', color=grid_gray)\n",
    "    plt.gca().set_axisbelow(True)\n",
    "    plt.gca().tick_params(axis='y', length=0)\n",
    "    \n",
    "    # format numeric values with commas\n",
    "    # if numeric then round to int for display\n",
    "    if((pd.api.types.is_numeric_dtype(data[field].dtype)) & (data[field].dtype != bool)):\n",
    "        plt.gca().xaxis.set_major_formatter(ticker.FuncFormatter(format_func))   \n",
    "    plt.gca().yaxis.set_major_formatter(ticker.FuncFormatter(format_func))\n",
    "\n",
    "    # set and format labels\n",
    "    title = title if title else f'{field} Distribution'\n",
    "    plt.title(title)\n",
    "    xlabel = x_label if x_label else ''\n",
    "    plt.xlabel(xlabel)\n",
    "    plt.xticks(rotation=45, ha='right', rotation_mode='anchor')\n",
    "    ylabel = y_label if y_label else ''\n",
    "    plt.ylabel(ylabel)\n",
    "    plt.tight_layout()\n",
    "    plt.show()"
   ]
  },
  {
   "cell_type": "code",
   "execution_count": 12,
   "metadata": {},
   "outputs": [],
   "source": [
    "def plot_hist_grid(data, values, rows, cols, size=None):\n",
    "    \n",
    "    fsize = size if size else (15, 7)\n",
    "    fig=plt.figure(figsize=fsize)\n",
    "    fig.patch.set_alpha(0)\n",
    "\n",
    "    pos = 1\n",
    "    for v in values:\n",
    "        ax=fig.add_subplot(rows,cols,pos)\n",
    "        hp = data[v].hist(edgecolor='none', rwidth=0.75, ax=ax, color=plot_palette[4:5][0])\n",
    "        hp.patch.set_alpha(0)\n",
    "        hp.yaxis.set_major_formatter(ticker.FuncFormatter(format_func))   \n",
    "\n",
    "        plt.grid(visible=True, axis='y', color=grid_gray)\n",
    "        plt.grid(visible=False, axis='x')\n",
    "        hp.set_axisbelow(True)\n",
    "        hp.tick_params(axis='y', length=0)\n",
    "\n",
    "        # remove spines\n",
    "        spines = ['top', 'right', 'left']\n",
    "        for s in spines:\n",
    "            ax.spines[s].set_visible(False)\n",
    "        ax.set_title(v)\n",
    "        ax.xaxis.set_tick_params(rotation=45)\n",
    "        pos += 1\n",
    "        \n",
    "    fig.tight_layout()\n",
    "    plt.show()"
   ]
  },
  {
   "cell_type": "markdown",
   "metadata": {},
   "source": [
    "## Plot Bars"
   ]
  },
  {
   "cell_type": "code",
   "execution_count": 13,
   "metadata": {},
   "outputs": [],
   "source": [
    "def plot_bar(data, id_var, value_vars, title=None, x_label=None, rotate_labels=True):\n",
    "    melted_df = data.melt(id_vars=id_var, \n",
    "                                    value_vars=value_vars, \n",
    "                                    var_name='Metric', \n",
    "                                    value_name='Value')\n",
    "\n",
    "    # Create the barplot\n",
    "    fig, ax = plt.subplots()\n",
    "    fig.set_size_inches(12, 6)\n",
    "    fig.patch.set_alpha(0)\n",
    "\n",
    "    sns.barplot(data=melted_df, x=id_var, y='Value', hue='Metric', palette=plot_palette[3:], ax=ax)\n",
    "    ax.patch.set_alpha(0)\n",
    "\n",
    "    # legend\n",
    "    plt.gca().legend(loc='upper left', bbox_to_anchor=(1.15, 1), edgecolor='black', shadow=False, fancybox=False)\n",
    "\n",
    "    # axis labels and formatting\n",
    "    ax.set_ylabel('')\n",
    "    ax.set_title(title if title else '')\n",
    "    ax.set_xlabel(x_label if x_label else '')\n",
    "    spines = ['right', 'left', 'top']\n",
    "    for s in spines:\n",
    "        ax.spines[s].set_visible(False)\n",
    "\n",
    "    if rotate_labels:\n",
    "        labels = ax.get_xticklabels()\n",
    "        ax.set_xticklabels(labels, rotation=45, ha='right', rotation_mode='anchor') \n",
    "\n",
    "    # plot\n",
    "    plt.grid(True, axis='y', color=grid_gray)\n",
    "    plt.gca().set_axisbelow(True)\n",
    "    plt.gca().tick_params(axis='y', length=0)\n",
    "\n",
    "    # Adjust layout\n",
    "    plt.tight_layout()\n",
    "\n",
    "    # Show plot\n",
    "    plt.show()"
   ]
  },
  {
   "cell_type": "code",
   "execution_count": 604,
   "metadata": {},
   "outputs": [],
   "source": [
    "def plot_bar_stack(data, group_field, category_field, title=None, show_legend=True, line_overlay=None, plot_size=None, colors=None, x_label=None, y_label=None):\n",
    "    \n",
    "    group_sizes = data.groupby(group_field).size().sort_values(ascending=False)\n",
    "    group_sizes.index = group_sizes.index.astype(str)\n",
    "    sorted_groups = group_sizes.index.tolist()\n",
    "\n",
    "    counts = pd.crosstab([data[category_field]], [data[group_field].astype('string')])[sorted_groups]\n",
    "    melted = counts.reset_index().melt(id_vars=category_field, var_name=group_field, value_name='Count')\n",
    "    \n",
    "    p_size = plot_size if plot_size else (10, 6)\n",
    "    plt.figure(figsize=p_size)\n",
    "    plt.gcf().patch.set_alpha(0)\n",
    "\n",
    "    plot_colors = colors if colors else plot_palette[:len(sorted_groups)]\n",
    "\n",
    "    ax = sns.barplot(\n",
    "        data=melted,\n",
    "        x=category_field,\n",
    "        y='Count',\n",
    "        hue=group_field,\n",
    "        palette=plot_colors,\n",
    "        legend=show_legend,\n",
    "        dodge=False\n",
    "    )\n",
    "    ax.patch.set_alpha(0)\n",
    "\n",
    "    if line_overlay:\n",
    "        for line in line_overlay:\n",
    "            line_data = line['Data'] if 'Data' in line else data\n",
    "            lp = sns.lineplot(data=line_data, x=category_field, y=line['Field'], color=line['Color'], label=line['Label'], errorbar=None, estimator=line['estimator'], linewidth=2)\n",
    "            lp.set_alpha(0)\n",
    "\n",
    "    bottoms = {}\n",
    "    for bars in ax.containers:\n",
    "        for bar in bars:\n",
    "            x, y = bar.get_xy()\n",
    "            h = bar.get_height()\n",
    "            if x in bottoms:\n",
    "                bar.set_y(bottoms[x])\n",
    "                bottoms[x] += h\n",
    "            else:\n",
    "                bottoms[x] = h\n",
    "    ax.relim()  # the plot limits need to be updated with the moved bars\n",
    "    ax.autoscale()\n",
    "\n",
    "    if show_legend:\n",
    "        plt.legend(\n",
    "            bbox_to_anchor=(1.05, 1),\n",
    "            loc='upper left',\n",
    "            title=group_field,\n",
    "            edgecolor='black',\n",
    "            shadow=False,\n",
    "            fancybox=False\n",
    "        )    \n",
    "    \n",
    "    spines = ['top', 'right', 'left']\n",
    "    for s in spines:\n",
    "        ax.spines[s].set_visible(False)\n",
    "\n",
    "    ticks = ax.get_xticks()\n",
    "    labels = ax.get_xticklabels()\n",
    "    if(len(ticks) > 7):\n",
    "        ax.set_xticks(ticks[3::4])\n",
    "        ax.set_xticklabels(labels[3::4]) \n",
    "    ax.yaxis.set_major_formatter(ticker.FuncFormatter(format_func))\n",
    "    \n",
    "    plt.grid(True, axis='y', color=grid_gray)\n",
    "    plt.gca().set_axisbelow(True)\n",
    "    plt.gca().tick_params(axis='y', length=0)\n",
    "    title = title if title else f'{category_field} by {group_field}'\n",
    "    plt.title(title)\n",
    "    plt.xlabel(x_label if x_label else '')\n",
    "    plt.ylabel(y_label if y_label else '')\n",
    "    plt.xticks(rotation=45, ha='right', rotation_mode='anchor')\n",
    "    plt.tight_layout()\n",
    "    plt.show()"
   ]
  },
  {
   "cell_type": "markdown",
   "metadata": {},
   "source": [
    "## Plot Scatter"
   ]
  },
  {
   "cell_type": "code",
   "execution_count": 15,
   "metadata": {},
   "outputs": [],
   "source": [
    "def plot_scatter(data, x_field, y_field, size_field, color_field, title=None, show_legend=True, plot_size=None, colors=None, alpha=None, x_label=None, y_label=None):\n",
    "    \n",
    "    p_size = plot_size if plot_size else (10, 6)\n",
    "    plt.figure(figsize=p_size)\n",
    "    plt.gcf().patch.set_alpha(0)\n",
    "\n",
    "    alpha_value = alpha if alpha else 0.2\n",
    "\n",
    "    ax = sns.scatterplot(\n",
    "        data=data,\n",
    "        x=x_field,\n",
    "        y=y_field,\n",
    "        size=size_field,\n",
    "        hue=color_field,\n",
    "        edgecolor='black',\n",
    "        linewidth=1,\n",
    "        palette='viridis',\n",
    "        alpha=alpha_value,\n",
    "        sizes=(0, 450),  # Adjust the range of sizes if needed\n",
    "        legend=True\n",
    "    )\n",
    "    ax.patch.set_alpha(0)\n",
    "\n",
    "    if show_legend:\n",
    "        plt.legend(\n",
    "            bbox_to_anchor=(1.05, 1),\n",
    "            loc='upper left',\n",
    "            edgecolor='black',\n",
    "            shadow=False,\n",
    "            fancybox=False\n",
    "        )    \n",
    "    \n",
    "    spines = ['top', 'right', 'left']\n",
    "    for s in spines:\n",
    "        ax.spines[s].set_visible(False)\n",
    "\n",
    "    xlabel = x_label if x_label else x_field\n",
    "    ylabel = y_label if y_label else y_field\n",
    "\n",
    "    plt.grid(True, axis='y', color=grid_gray)\n",
    "    plt.gca().set_axisbelow(True)\n",
    "    plt.gca().tick_params(axis='y', length=0)\n",
    "    title = title if title else f'{x_field} by {y_field}'\n",
    "    plt.title(title)\n",
    "    plt.xlabel(xlabel)\n",
    "    plt.ylabel(ylabel)\n",
    "    plt.tight_layout()\n",
    "    plt.show()"
   ]
  },
  {
   "cell_type": "markdown",
   "metadata": {},
   "source": [
    "## Plot Pies"
   ]
  },
  {
   "cell_type": "code",
   "execution_count": 16,
   "metadata": {},
   "outputs": [],
   "source": [
    "def plot_pie(data, field, title=None):\n",
    "\n",
    "    fig, ax = plt.subplots()\n",
    "    fig.patch.set_alpha(0)\n",
    "    \n",
    "    os_data = data.groupby(field)[field].count().sort_values(ascending=False)\n",
    "\n",
    "    patches, texts = plt.pie(os_data.values, colors=plot_palette[:len(os_data)], startangle=90, wedgeprops=dict(width=0.5))\n",
    "    \n",
    "    percent = 100.*os_data.values/os_data.values.sum()\n",
    "    labels = ['{0} - {1:1.2f}%'.format(i,j) for i,j in zip(os_data.index, percent)]\n",
    "    patches, labels, dummy =  zip(*sorted(zip(patches, labels, os_data.values), key=lambda x: x[2], reverse=True))\n",
    "\n",
    "    plt.legend(patches, labels, loc='upper left', bbox_to_anchor=(1.05, 1), fontsize=8, edgecolor='black', shadow=False, fancybox=False)\n",
    "    plt.title(title if title else field)\n",
    "    plt.tight_layout()\n",
    "    plt.show()"
   ]
  },
  {
   "cell_type": "markdown",
   "metadata": {},
   "source": [
    "## Plot Goals"
   ]
  },
  {
   "cell_type": "code",
   "execution_count": 17,
   "metadata": {},
   "outputs": [],
   "source": [
    "# this is a measure of the change from the percentage of goal pages each page type has to the percent of traffic it gets. \n",
    "# so if Blog Post Page makes up 18% of your goal pages but only gets 11% of the traffic \n",
    "    # then it roughly has a score of 2:1 which is 0.5 (the yellow line) indicating a lower share than expected. \n",
    "    # above 1 is a higher share. \n",
    "    # this indicates which page types are more or less effective at getting goals\n",
    "    # for example more blog post pages may not result in more goals but \n",
    "    # more Project Pages may which doesn't have many pages but gets a larger share of goals\n",
    "\n",
    "def plot_goal_ratios(data, data_labels):\n",
    "    fig, ax = plt.subplots()\n",
    "    fig.patch.set_alpha(0)\n",
    "    fig.set_size_inches(12, 6)\n",
    "\n",
    "    result_df = data.groupby('TemplateName')\\\n",
    "        .agg(\n",
    "            EventCount=('InteractionEventId','count'),\n",
    "            ItemCount=('ItemId',lambda x: x.nunique(dropna=True))\n",
    "        ).reset_index()\n",
    "\n",
    "    # find percentages for each column\n",
    "    result_df['EventPercent'] = (result_df['EventCount'] / result_df['EventCount'].sum()) * 100\n",
    "    result_df['ItemPercent'] = (result_df['ItemCount'] / result_df['ItemCount'].sum()) * 100\n",
    "\n",
    "    # calculate the ratio\n",
    "    result_df['Ratio'] = round(result_df['EventPercent'] / result_df['ItemPercent'], 1)\n",
    "\n",
    "    # transform data\n",
    "    melted_df = result_df.melt(id_vars='TemplateName', value_vars=['EventPercent', 'ItemPercent'], \n",
    "                        var_name='Type', value_name='Percent')\n",
    "    melted_df = melted_df.join(result_df[['TemplateName','Ratio']].set_index('TemplateName'), on='TemplateName')\n",
    "\n",
    "    # plots\n",
    "    lp = sns.lineplot(data=result_df.sort_values('Ratio', ascending=False), x=\"TemplateName\", y=\"Ratio\", color=plot_palette_hex[7], ax=ax, label='Ratio', legend=False, errorbar=None, linewidth=2, zorder=2)\n",
    "    lp.patch.set_alpha(0)\n",
    "\n",
    "    # create a second axis\n",
    "    ax2 = ax.twinx()  \n",
    "\n",
    "    bp = sns.barplot(data=melted_df.sort_values('Ratio', ascending=False), x='TemplateName', y='Percent', hue='Type', palette=plot_palette[:2], label='Ratio', ax=ax2, legend=False, zorder=1)\n",
    "    bp.patch.set_alpha(0)\n",
    "\n",
    "    # axis labels and formatting\n",
    "    spines = ['right', 'left', 'top']\n",
    "    for s in spines:\n",
    "        bp.spines[s].set_visible(False)\n",
    "        lp.spines[s].set_visible(False)\n",
    "\n",
    "    # legend\n",
    "    lb1 = bp.get_legend_handles_labels()\n",
    "    lb2 = lp.get_legend_handles_labels()\n",
    "    labels = lb1[1] + lb2[1]\n",
    "    handles = lb1[0] + lb2[0]\n",
    "    ax2.legend(handles, data_labels, loc='upper left', bbox_to_anchor=(1.15, 1), edgecolor='black', shadow=False, fancybox=False)\n",
    "            \n",
    "    # set labels\n",
    "    plt.title(f'{data_labels[1]} % Balance')\n",
    "    ax.set_ylabel(data_labels[2])\n",
    "    ax2.set_ylabel('Percent')\n",
    "    ax.set_xlabel('')\n",
    "    def y_format(x, pos):\n",
    "        return f'{x:.0f}%'\n",
    "    bp.yaxis.set_major_formatter(ticker.FuncFormatter(y_format))\n",
    "    ax.set_xticklabels(ax.get_xticklabels(), rotation=45, ha='right', rotation_mode='anchor')\n",
    "\n",
    "    # hide ticks and show grid\n",
    "    ax.tick_params(axis='y', length=0)\n",
    "    ax.grid(True, axis='y', color=grid_gray)\n",
    "    ax.set_axisbelow(True)\n",
    "    ax2.tick_params(axis='y', length=0)\n",
    "\n",
    "    plt.tight_layout()\n",
    "    plt.show()"
   ]
  },
  {
   "cell_type": "markdown",
   "metadata": {},
   "source": [
    "## Plot Ridge"
   ]
  },
  {
   "cell_type": "code",
   "execution_count": 255,
   "metadata": {},
   "outputs": [],
   "source": [
    "def color_gradient(x=0.0, start=(0, 0, 0), stop=(1, 1, 1)):\n",
    "        r = np.interp(x, [0, 1], [start[0], stop[0]])\n",
    "        g = np.interp(x, [0, 1], [start[1], stop[1]])\n",
    "        b = np.interp(x, [0, 1], [start[2], stop[2]])\n",
    "        return (r, g, b)\n",
    "\n",
    "def plot_ridge(data, field, start_date, end_date, num_dates, size=None, ymax=None):\n",
    "    fields = [field, 'Timestamp']\n",
    "    temp_df = data[fields]\n",
    "    temp_df['SortDateName'] = pd.to_datetime(temp_df['Timestamp'], format='%Y%m')\n",
    "    temp_df['SortDate'] = temp_df['SortDateName'].apply(lambda x:x.toordinal())\n",
    "    dates = pd.date_range(start = start_date, end = end_date, periods = num_dates)\n",
    "    dates = [str(date)[:-12] for date in dates]\n",
    "\n",
    "    fig, axes = joypy.joyplot(data=temp_df, \n",
    "                            by=field, \n",
    "                            column='SortDate',\n",
    "                            alpha=0.2, \n",
    "                            linewidth=1,\n",
    "                            color=plot_palette[4],\n",
    "                            figsize=size if size else (15,10),\n",
    "                            kind=\"kde\", \n",
    "                            colormap=lambda x: color_gradient(x, start=(.08, .45, .8) ,stop=(.8, .34, .44)),\n",
    "                            overlap=5,\n",
    "                            linecolor='black',\n",
    "                            fade=False)\n",
    "\n",
    "    fig.patch.set_alpha(0)\n",
    "    axes[-1].set_xticks(range(num_dates))\n",
    "    axes[-1].set_xticklabels(dates)\n",
    "    axes[-1].set_xlim([0, 4])\n",
    "    for ax in axes:\n",
    "         ax.patch.set_alpha(0)\n",
    "\n",
    "    plt.xticks(rotation=-45, ha='left', rotation_mode='anchor')\n",
    "    ax.spines['bottom'].set_position(('outward', -20))  # Move the bottom spine inward by 10 points\n",
    "    \n",
    "    plt.show()"
   ]
  },
  {
   "cell_type": "code",
   "execution_count": null,
   "metadata": {},
   "outputs": [],
   "source": [
    "def plot_ridge_metric(data, field):\n",
    "    fields = [field, 'Timestamp']\n",
    "    temp_df = data[fields]\n",
    "    temp_df['SortDateName'] = data['Timestamp'].dt.strftime('%Y-%m')\n",
    "    \n",
    "    fig, axes = joypy.joyplot(data=temp_df, \n",
    "                            by='SortDateName', \n",
    "                            column=field,\n",
    "                            #ylim='own',\n",
    "                            x_range=(0,60),\n",
    "                            alpha=0.2, \n",
    "                            linewidth=1,\n",
    "                            color=plot_palette[4],\n",
    "                            figsize=(15,10),\n",
    "                            overlap=8,\n",
    "                            linecolor='black',\n",
    "                            fade=False)\n",
    "    \n",
    "    fig.patch.set_alpha(0)\n",
    "    for ax in axes:\n",
    "         ax.patch.set_alpha(0)\n",
    "\n",
    "    plt.xticks(rotation=-45, ha='left', rotation_mode='anchor')\n",
    "    ax.spines['bottom'].set_position(('outward', -20))  # Move the bottom spine inward by 10 points\n",
    "    \n",
    "    plt.show()"
   ]
  },
  {
   "cell_type": "markdown",
   "metadata": {},
   "source": [
    "## Plot Map"
   ]
  },
  {
   "cell_type": "code",
   "execution_count": 526,
   "metadata": {},
   "outputs": [],
   "source": [
    "def plot_map_ev(ip_data, color_field, fill_color_field, radius_field, zoom=2, point_size=0.02):\n",
    "    \n",
    "    min_value = ip_data[color_field].min()\n",
    "    max_value = ip_data[color_field].max()\n",
    "    ip_data['Color'] = ip_data[color_field].apply(lambda x: (x - min_value) / (max_value - min_value))\n",
    "\n",
    "    min_value = ip_data[fill_color_field].min()\n",
    "    max_value = ip_data[fill_color_field].max()\n",
    "    ip_data['FillColor'] = ip_data[fill_color_field].apply(lambda x: (x - min_value) / (max_value - min_value))\n",
    "\n",
    "    # Create a colormap\n",
    "    colormap = plt.cm.get_cmap('Set3')\n",
    "    fill_colormap = plt.cm.get_cmap('Paired')\n",
    "\n",
    "    # Create a folium map centered around the average latitude and longitude\n",
    "    map_center = [ip_data['lat'].mean(), ip_data['lon'].mean()]\n",
    "    m = folium.Map(location=map_center, tiles=\"Cartodb dark_matter\", zoom_start=zoom)\n",
    "    \n",
    "    # Add points to the map if the latitude is not null\n",
    "    for _, row in ip_data[~ip_data['lat'].isna()].iterrows():\n",
    "        color = colormap(row['Color'])\n",
    "        color = f'#{int(color[0]*255):02x}{int(color[1]*255):02x}{int(color[2]*255):02x}'\n",
    "        fill_color = fill_colormap(row['FillColor'])\n",
    "        fill_color = f'#{int(fill_color[0]*255):02x}{int(fill_color[1]*255):02x}{int(fill_color[2]*255):02x}'\n",
    "\n",
    "        popup_content = f\"\"\"\n",
    "        <div style=\"width: 150px;\">\n",
    "            {radius_field}: <b>{row[radius_field]:,.2f}</b><br>\n",
    "            {fill_color_field}: <b>{row[fill_color_field]:,.2f}</b><br>\n",
    "            {color_field}: <b>{row[color_field]:,.0f}</b><br>\n",
    "        </div>\n",
    "        \"\"\"\n",
    "\n",
    "        folium.CircleMarker(\n",
    "            location=[row['lat'], row['lon']],\n",
    "            radius=row[radius_field] * point_size,\n",
    "            popup=popup_content,\n",
    "            color=color,\n",
    "            fill=True,\n",
    "            fill_color=fill_color,\n",
    "            weight=1\n",
    "        ).add_to(m)\n",
    "\n",
    "    #legend_html = '''\n",
    "    # <div style=\"position: fixed; \n",
    "    # bottom: 50px; left: 50px; width: 150px; height: 90px; \n",
    "    # border:2px solid grey; z-index:9999; font-size:14px;\n",
    "    # background-color:white; opacity: 0.8;\n",
    "    # padding: 10px;\">\n",
    "    # <b>Legend</b><br>\n",
    "    # <i style=\"background: #f7fbff; width: 18px; height: 18px; float: left; margin-right: 5px;\"></i> Low<br>\n",
    "    # <i style=\"background: #08306b; width: 18px; height: 18px; float: left; margin-right: 5px;\"></i> High<br>\n",
    "    # </div>\n",
    "    # '''\n",
    "    #m.get_root().html.add_child(folium.Element(legend_html))\n",
    "\n",
    "    return m"
   ]
  },
  {
   "cell_type": "markdown",
   "metadata": {},
   "source": [
    "## Plot Boxen"
   ]
  },
  {
   "cell_type": "code",
   "execution_count": null,
   "metadata": {},
   "outputs": [],
   "source": [
    "def plot_boxen(data, x_field, y_field, plot_title):\n",
    "\n",
    "    # figure setup\n",
    "    fig, ax = plt.subplots()\n",
    "    fig.set_size_inches(10, 6)\n",
    "    fig.patch.set_alpha(0)\n",
    "    \n",
    "    bp = sns.boxenplot(data = data, x = x_field, y = y_field, linewidth=0, \n",
    "                       color=plot_palette_hex[2], \n",
    "                       order=data[x_field].sort_values().unique(),\n",
    "                       line_kws=dict(linewidth=1.5, color=plot_palette_hex[7]),\n",
    "                       flier_kws=dict(facecolor=\"1\", linewidth=1, edgecolor=plot_palette_hex[2], color=None))\n",
    "\n",
    "    bp.patch.set_alpha(0)\n",
    "    \n",
    "    # legend\n",
    "    plt.gca().legend(loc='upper left', bbox_to_anchor=(1.15, 1), edgecolor='black', shadow=False, fancybox=False)\n",
    "\n",
    "    # axis labels and formatting\n",
    "    ax.set_ylabel('')\n",
    "    ax.set_title(plot_title)\n",
    "    ax.set_xlabel('Year/Month')\n",
    "    spines = ['right', 'left', 'top']\n",
    "    for s in spines:\n",
    "        ax.spines[s].set_visible(False)\n",
    "    ticks = ax.get_xticks()\n",
    "    labels = ax.get_xticklabels()\n",
    "    ax.set_xticks(ticks[3::4])\n",
    "    ax.set_xticklabels(labels[3::4], rotation=45, ha='right', rotation_mode='anchor') \n",
    "    ax.yaxis.set_major_formatter(ticker.FuncFormatter(format_func))\n",
    "\n",
    "    # plot\n",
    "    plt.grid(True, axis='y', color=grid_gray)\n",
    "    plt.gca().set_axisbelow(True)\n",
    "    plt.gca().tick_params(axis='y', length=0)\n",
    "    plt.tight_layout()\n",
    "    plt.show()"
   ]
  },
  {
   "cell_type": "markdown",
   "metadata": {},
   "source": [
    "## Plot Line"
   ]
  },
  {
   "cell_type": "code",
   "execution_count": null,
   "metadata": {},
   "outputs": [],
   "source": [
    "def plot_line(data, x_field, y_field, plot_title, x_label, y_label):\n",
    "\n",
    "    # figure setup\n",
    "    fig, ax = plt.subplots()\n",
    "    fig.set_size_inches(10, 6)\n",
    "    fig.patch.set_alpha(0)\n",
    "    \n",
    "    # plots\n",
    "    lp = sns.lineplot(\n",
    "        data=data,\n",
    "        x=x_field, \n",
    "        y=y_field, \n",
    "        palette=plot_palette_hex[1],\n",
    "        linewidth=2\n",
    "    )\n",
    "    lp.patch.set_alpha(0)\n",
    "    \n",
    "    # legend\n",
    "    plt.gca().legend(loc='upper left', bbox_to_anchor=(1.15, 1), edgecolor='black', shadow=False, fancybox=False)\n",
    "\n",
    "    # axis labels and formatting\n",
    "    ax.set_ylabel('')\n",
    "    ax.set_title(plot_title)\n",
    "    ax.set_xlabel('Year/Month')\n",
    "    spines = ['right', 'left', 'top']\n",
    "    for s in spines:\n",
    "        ax.spines[s].set_visible(False)\n",
    "    ticks = ax.get_xticks()\n",
    "    labels = ax.get_xticklabels()\n",
    "    ax.set_xticks(ticks[3::4])\n",
    "    ax.set_xticklabels(labels[3::4], rotation=45, ha='right', rotation_mode='anchor') \n",
    "    ax.yaxis.set_major_formatter(ticker.FuncFormatter(format_func))\n",
    "\n",
    "    # plot\n",
    "    plt.grid(True, axis='y', color=grid_gray)\n",
    "    plt.gca().set_axisbelow(True)\n",
    "    plt.gca().tick_params(axis='y', length=0)\n",
    "    plt.tight_layout()\n",
    "    plt.show()"
   ]
  },
  {
   "cell_type": "code",
   "execution_count": 1,
   "metadata": {},
   "outputs": [],
   "source": [
    "def plot_line_by_group(data, x_group_by, y_field, plot_title=None, x_label=None, y_label=None):\n",
    "    # figure setup\n",
    "    fig, ax = plt.subplots()\n",
    "    fig.set_size_inches(10, 6)\n",
    "    fig.patch.set_alpha(0)\n",
    "\n",
    "    # get and sort value counts\n",
    "    g_data = data.groupby(x_group_by)[y_field].sum().reset_index(name='Total')\n",
    "\n",
    "    hue_counts = g_data['GoalName'].value_counts()\n",
    "    sorted_hue_categories = hue_counts.index.tolist()\n",
    "        \n",
    "    # plots\n",
    "    lp = sns.lineplot(\n",
    "        data=g_data,\n",
    "        x=x_group_by[0], \n",
    "        y=\"Total\", \n",
    "        hue=x_group_by[1], \n",
    "        palette=sns.color_palette(\"tab20\"),\n",
    "        hue_order=sorted_hue_categories,\n",
    "        linewidth=2\n",
    "    )\n",
    "    lp.patch.set_alpha(0)\n",
    "\n",
    "    # legend\n",
    "    plt.gca().legend(loc='upper left', bbox_to_anchor=(1.15, 1), edgecolor='black', shadow=False, fancybox=False)\n",
    "\n",
    "    # axis labels and formatting\n",
    "    ylabel = y_label if y_label else ''\n",
    "    ax.set_ylabel(ylabel)\n",
    "    title = plot_title if plot_title else f'{x_group_by[1]} by {x_group_by[0]}'\n",
    "    ax.set_title(title)\n",
    "    xlabel = x_label if x_label else ''\n",
    "    ax.set_xlabel(xlabel)\n",
    "    spines = ['right', 'left', 'top']\n",
    "    for s in spines:\n",
    "        ax.spines[s].set_visible(False)\n",
    "    ticks = ax.get_xticks()\n",
    "    labels = ax.get_xticklabels()\n",
    "    ax.set_xticks(ticks[3::4])\n",
    "    ax.set_xticklabels(labels[3::4], rotation=45, ha='right', rotation_mode='anchor') \n",
    "    ax.yaxis.set_major_formatter(ticker.FuncFormatter(format_func))\n",
    "\n",
    "    # plot\n",
    "    plt.grid(True, axis='y', color=grid_gray)\n",
    "    plt.gca().set_axisbelow(True)\n",
    "    plt.gca().tick_params(axis='y', length=0)\n",
    "    plt.tight_layout()\n",
    "    plt.show()"
   ]
  },
  {
   "cell_type": "markdown",
   "metadata": {},
   "source": [
    "## IP Lookups"
   ]
  },
  {
   "cell_type": "code",
   "execution_count": null,
   "metadata": {},
   "outputs": [],
   "source": [
    "# IPINFO JSON\n",
    "#{\n",
    "#  \"ip\": \"172.71.170.134\",\n",
    "#  \"city\": \"Dallas\",\n",
    "#  \"region\": \"Texas\",\n",
    "#  \"country\": \"US\",\n",
    "#  \"loc\": \"32.7831,-96.8067\",\n",
    "#  \"org\": \"AS13335 Cloudflare, Inc.\",\n",
    "#  \"postal\": \"75201\",\n",
    "#  \"timezone\": \"America/Chicago\",\n",
    "#  \"readme\": \"https://ipinfo.io/missingauth\"\n",
    "#}\n",
    "\n",
    "# ARIN JSON\n",
    "#{\n",
    "#\"handle\": \"NET-172-64-0-0-1\",\n",
    "#\"startAddress\": \"172.64.0.0\",\n",
    "#\"endAddress\": \"172.71.255.255\",\n",
    "#\"ipVersion\": \"v4\",\n",
    "#\"name\": \"CLOUDFLARENET\",\n",
    "#\"type\": \"DIRECT ALLOCATION\"\n",
    "#}"
   ]
  },
  {
   "cell_type": "code",
   "execution_count": null,
   "metadata": {},
   "outputs": [],
   "source": [
    "# You need to signup for a free account at https://ipinfo.io/ to get a token\n",
    "def get_ip_data(ip_list, ip_info_token):\n",
    "    ip_data = []\n",
    "    counter = 1\n",
    "    for ip_address in ip_list:\n",
    "        try:\n",
    "            response = requests.get(f\"https://ipinfo.io/{ip_address}?token={ip_info_token}\", headers={\"Accept-Encoding\": \"identity\"})\n",
    "            #response = requests.get(f\"https://rdap.apnic.net/ip/{ip_address}\", headers={\"Accept-Encoding\": \"identity\"})\n",
    "            response.raise_for_status()\n",
    "            if response.status_code == 200:\n",
    "                data = response.json()\n",
    "                ip_data.append({\n",
    "                    #\"Name\": data.get(\"name\"),\n",
    "                    \"IP\": ip_address,\n",
    "                    \"Org\": data.get(\"org\"),\n",
    "                    \"City\": data.get(\"city\"),\n",
    "                    \"State\": data.get(\"region\"),\n",
    "                    \"Zipcode\": data.get(\"postal\"),\n",
    "                    \"loc\": data.get(\"loc\")\n",
    "                })\n",
    "        except requests.exceptions.RequestException as e:\n",
    "            print(f\"API request failed for {ip_address}: {e}\")\n",
    "\n",
    "        print(counter)\n",
    "        counter += 1\n",
    "        #time.sleep(1)\n",
    "        \n",
    "    return pd.DataFrame(ip_data)"
   ]
  },
  {
   "cell_type": "markdown",
   "id": "69c0554e",
   "metadata": {},
   "source": [
    "# Database Connection"
   ]
  },
  {
   "cell_type": "code",
   "execution_count": null,
   "id": "bcb91530-e2b5-4ff0-b259-6cb7df5c4ac0",
   "metadata": {},
   "outputs": [],
   "source": [
    "connection_string = f'''Driver={{SQL Server}};\n",
    "                        Server={server};\n",
    "                        Port={port};\n",
    "                        Database={warehouse};\n",
    "                        uid={username};\n",
    "                        pwd={password};'''\n",
    "connection_url = URL.create(\"mssql+pyodbc\", query={\"odbc_connect\": connection_string})\n",
    "connection_engine = create_engine(connection_url)"
   ]
  },
  {
   "cell_type": "markdown",
   "metadata": {},
   "source": [
    "# Events"
   ]
  },
  {
   "cell_type": "markdown",
   "id": "7309f71c-9587-4f93-903e-78241523cf50",
   "metadata": {},
   "source": [
    "## Query"
   ]
  },
  {
   "cell_type": "code",
   "execution_count": null,
   "metadata": {},
   "outputs": [],
   "source": [
    "event_query = '''\n",
    "SELECT [InteractionEventId]\n",
    "      ,[InteractionId]\n",
    "      ,[ContactId]\n",
    "      ,[EventType]\n",
    "      ,[Timestamp]\n",
    "      ,[EngagementValue]\n",
    "      ,[PageName]\n",
    "  FROM [mart_schema].[Events]\n",
    "'''"
   ]
  },
  {
   "cell_type": "code",
   "execution_count": 562,
   "id": "6ba7909f-e63c-4239-ae12-2e91d1971318",
   "metadata": {},
   "outputs": [],
   "source": [
    "with connection_engine.begin() as connection:\n",
    "    event_df = pd.read_sql_query(sa.text(event_query), connection)"
   ]
  },
  {
   "cell_type": "markdown",
   "metadata": {},
   "source": [
    "## Stats"
   ]
  },
  {
   "cell_type": "code",
   "execution_count": null,
   "id": "261c2035-8293-4134-82a3-cb87847208f8",
   "metadata": {},
   "outputs": [],
   "source": [
    "len(event_df)"
   ]
  },
  {
   "cell_type": "code",
   "execution_count": null,
   "id": "7d7f8966-4daa-477b-890a-04152bdc8cfa",
   "metadata": {
    "scrolled": true
   },
   "outputs": [],
   "source": [
    "event_df.info()"
   ]
  },
  {
   "cell_type": "markdown",
   "metadata": {},
   "source": [
    "## Set And Trim Dates"
   ]
  },
  {
   "cell_type": "code",
   "execution_count": 564,
   "metadata": {},
   "outputs": [],
   "source": [
    "event_df = set_and_trim_dates(event_df)"
   ]
  },
  {
   "cell_type": "markdown",
   "metadata": {},
   "source": [
    "## Plots"
   ]
  },
  {
   "cell_type": "code",
   "execution_count": null,
   "metadata": {},
   "outputs": [],
   "source": [
    "ev_overlay = {\n",
    "    'Field': 'EngagementValue',\n",
    "    'Color': plot_palette_hex[9],\n",
    "    'Label': 'EngagementValue',\n",
    "    'estimator': 'sum'\n",
    "}\n",
    "contact_overlay = {\n",
    "    'Data': event_df.groupby(['TimestampSortDate']).agg(ContactCount=('ContactId','nunique')).reset_index(),\n",
    "    'Field': 'ContactCount',\n",
    "    'Color': plot_palette_hex[11],\n",
    "    'Label': 'UniqueContacts',\n",
    "    'estimator': 'mean'\n",
    "}\n",
    "plot_bar_stack(\n",
    "    event_df, \n",
    "    'EventType', \n",
    "    'TimestampSortDate', \n",
    "    'Events by Month', \n",
    "    line_overlay=[ev_overlay, contact_overlay], \n",
    "    plot_size=(14, 6))"
   ]
  },
  {
   "cell_type": "markdown",
   "metadata": {},
   "source": [
    "# Search Keywords"
   ]
  },
  {
   "cell_type": "code",
   "execution_count": null,
   "metadata": {},
   "outputs": [],
   "source": [
    "keyword_query = '''\n",
    "SELECT [InteractionEventId]\n",
    "      ,[InteractionId]\n",
    "      ,[ContactId]\n",
    "      ,[SearchKeywords]\n",
    "  FROM [mart_schema].[SearchKeywords]\n",
    "'''"
   ]
  },
  {
   "cell_type": "code",
   "execution_count": null,
   "metadata": {},
   "outputs": [],
   "source": [
    "with connection_engine.begin() as connection:\n",
    "    keyword_df = pd.read_sql_query(sa.text(keyword_query), connection)"
   ]
  },
  {
   "cell_type": "code",
   "execution_count": null,
   "metadata": {},
   "outputs": [],
   "source": [
    "keyword_df['SearchKeywords'].unique()[:100]"
   ]
  },
  {
   "cell_type": "markdown",
   "metadata": {},
   "source": [
    "# Referrers"
   ]
  },
  {
   "cell_type": "code",
   "execution_count": null,
   "metadata": {},
   "outputs": [],
   "source": [
    "referrer_query = '''\n",
    "SELECT [InteractionEventId]\n",
    "      ,[InteractionId]\n",
    "      ,[ContactId]\n",
    "      ,[Referrer]\n",
    "  FROM [mart_schema].[Referrers]\n",
    "'''"
   ]
  },
  {
   "cell_type": "code",
   "execution_count": null,
   "metadata": {},
   "outputs": [],
   "source": [
    "with connection_engine.begin() as connection:\n",
    "    referrer_df = pd.read_sql_query(sa.text(referrer_query), connection)"
   ]
  },
  {
   "cell_type": "code",
   "execution_count": null,
   "metadata": {},
   "outputs": [
    {
     "name": "stdout",
     "output_type": "stream",
     "text": [
      "<class 'pandas.core.frame.DataFrame'>\n",
      "RangeIndex: 135536 entries, 0 to 135535\n",
      "Data columns (total 1 columns):\n",
      " #   Column    Non-Null Count   Dtype \n",
      "---  ------    --------------   ----- \n",
      " 0   Referrer  135535 non-null  object\n",
      "dtypes: object(1)\n",
      "memory usage: 1.0+ MB\n"
     ]
    }
   ],
   "source": [
    "ref_df = pd.DataFrame(referrer_df['Referrer'].unique())\n",
    "ref_df.columns = ['Referrer']\n",
    "\n",
    "# function to break up the url into parts\n",
    "def split_url(url):\n",
    "    parsed = urlparse(url)\n",
    "    return parsed.netloc, parsed.path, parsed.query\n",
    "\n",
    "# Apply the function to each row in 'Referrer' and expand into separate columns\n",
    "ref_df[[\"Domain\", \"Path\", \"Query\"]] = ref_df[\"Referrer\"].apply(\n",
    "    lambda url: pd.Series(split_url(url))\n",
    ")\n",
    "\n",
    "# replaces first string and digit with period from domain\n",
    "ref_df[\"Domain\"] = ref_df[\"Domain\"].str.replace(r\"^[0-9a-fA-F]+\\.\", \"\", regex=True)\n",
    "\n",
    "# removes www\n",
    "ref_df[\"Domain\"] = ref_df[\"Domain\"].astype(str).str.replace(r\"^www\\.\", \"\", regex=True)\n",
    "\n",
    "# set a flag if the domain has a port\n",
    "ref_df[\"HasPort\"] = ref_df[\"Domain\"].astype(str).str.contains(r\":\\d+$\")\n",
    "\n",
    "# set a flag if the domain is an IP address\n",
    "ref_df[\"IsNumericFormat\"] = ref_df[\"Domain\"].str.contains(r\"^\\d{1,3}\\.\\d{1,3}\\.\\d{1,3}$\", na=False)\n",
    "\n",
    "print(ref_df.info())"
   ]
  },
  {
   "cell_type": "code",
   "execution_count": null,
   "metadata": {},
   "outputs": [],
   "source": [
    "print(len(ref_df[ref_df['HasPort'] == False].Domain.unique()))\n",
    "print(ref_df[(ref_df['HasPort'] == False) & (ref_df[\"IsNumericFormat\"] == False)].Domain.astype(\"str\").sort_values().unique()[:1000])"
   ]
  },
  {
   "cell_type": "code",
   "execution_count": null,
   "metadata": {},
   "outputs": [],
   "source": [
    "ref_df.groupby(\"Domain\")\\\n",
    "    .agg(\n",
    "        Count=('Domain','count')\n",
    "    ).reset_index()\\\n",
    "    .sort_values(by=\"Count\",ascending=False)\\\n",
    "    .head(100)"
   ]
  },
  {
   "cell_type": "code",
   "execution_count": null,
   "metadata": {},
   "outputs": [],
   "source": [
    "print(ref_df[ref_df['Domain'] == 'google.com'].Query.astype(\"str\").sort_values().nunique())\n",
    "print(ref_df[ref_df['Domain'] == 'google.com'].Query.astype(\"str\").sort_values().unique()[:100])"
   ]
  },
  {
   "cell_type": "code",
   "execution_count": null,
   "metadata": {},
   "outputs": [],
   "source": [
    "print(ref_df[ref_df['Domain'] == 'www.google.com'].Path.astype(\"str\").sort_values().nunique())\n",
    "print(ref_df[ref_df['Domain'] == 'www.google.com'].Path.astype(\"str\").sort_values().unique()[:100])"
   ]
  },
  {
   "cell_type": "markdown",
   "metadata": {},
   "source": [
    "# Pages"
   ]
  },
  {
   "cell_type": "markdown",
   "metadata": {},
   "source": [
    "## Query"
   ]
  },
  {
   "cell_type": "code",
   "execution_count": null,
   "metadata": {},
   "outputs": [],
   "source": [
    "page_query = '''\n",
    "SELECT [InteractionEventId]\n",
    "      ,[InteractionId]\n",
    "      ,[ContactId]\n",
    "      ,[DeviceProfileId]\n",
    "      ,[CampaignId]\n",
    "      ,[CampaignDefinitionId]\n",
    "      ,[EventType]\n",
    "      ,[DefinitionId]\n",
    "      ,[ItemId]\n",
    "      ,[Timestamp]\n",
    "      ,[ItemLanguage]\n",
    "      ,[Text]\n",
    "      ,[EngagementValue]\n",
    "      ,[Device]\n",
    "      ,[Browser]\n",
    "      ,[OS]\n",
    "      ,[Referrer]\n",
    "      ,[SearchKeywords]\n",
    "      ,[IsSelfReferrer]\n",
    "      ,[PageName]\n",
    "      ,[TemplateName]\n",
    "  FROM [mart_schema].[PageViews]\n",
    "  '''"
   ]
  },
  {
   "cell_type": "code",
   "execution_count": 208,
   "metadata": {},
   "outputs": [],
   "source": [
    "with connection_engine.begin() as connection:\n",
    "    page_event_df = pd.read_sql_query(sa.text(page_query), connection)"
   ]
  },
  {
   "cell_type": "markdown",
   "id": "0be85a53",
   "metadata": {},
   "source": [
    "## Set And Trim Dates"
   ]
  },
  {
   "cell_type": "code",
   "execution_count": null,
   "metadata": {},
   "outputs": [],
   "source": [
    "page_event_df = set_and_trim_dates(page_event_df)"
   ]
  },
  {
   "cell_type": "markdown",
   "metadata": {},
   "source": [
    "## Stats"
   ]
  },
  {
   "cell_type": "code",
   "execution_count": null,
   "metadata": {},
   "outputs": [],
   "source": [
    "len(page_event_df)"
   ]
  },
  {
   "cell_type": "code",
   "execution_count": null,
   "metadata": {},
   "outputs": [],
   "source": [
    "page_event_df.info()"
   ]
  },
  {
   "cell_type": "markdown",
   "metadata": {},
   "source": [
    "## Plots"
   ]
  },
  {
   "cell_type": "code",
   "execution_count": null,
   "metadata": {},
   "outputs": [],
   "source": [
    "plot_pie(page_event_df, 'OS', 'Operating System')\n",
    "plot_pie(page_event_df, 'Device')\n",
    "plot_pie(page_event_df, 'Browser')\n",
    "plot_pie(page_event_df[~page_event_df.ItemLanguage.isna()], 'ItemLanguage', 'Item Languages')"
   ]
  },
  {
   "cell_type": "markdown",
   "id": "a6f57eaa-1eb4-4ea9-a0a6-cd640e9e85b5",
   "metadata": {},
   "source": [
    "# Campaigns"
   ]
  },
  {
   "cell_type": "markdown",
   "metadata": {},
   "source": [
    "## Queries"
   ]
  },
  {
   "cell_type": "code",
   "execution_count": 605,
   "id": "6f721088",
   "metadata": {},
   "outputs": [],
   "source": [
    "campaign_query = '''\n",
    "SELECT [InteractionEventId]\n",
    "      ,[InteractionId]\n",
    "      ,[ContactId]\n",
    "      ,[DeviceProfileId]\n",
    "      ,[CampaignId]\n",
    "      ,[CampaignDefinitionId]\n",
    "      ,[EventType]\n",
    "      ,[DefinitionId]\n",
    "      ,[ItemId]\n",
    "      ,[Timestamp]\n",
    "      ,[ItemLanguage]\n",
    "      ,[Text]\n",
    "      ,[EngagementValue]\n",
    "      ,[Device]\n",
    "      ,[Browser]\n",
    "      ,[OS]\n",
    "      ,[Referrer]\n",
    "      ,[SearchKeywords]\n",
    "      ,[IsSelfReferrer]\n",
    "      ,[PageName]\n",
    "      ,[TemplateName]\n",
    "      ,[CampaignName]\n",
    "  FROM [mart_schema].[Campaigns]\n",
    "'''"
   ]
  },
  {
   "cell_type": "code",
   "execution_count": 606,
   "metadata": {},
   "outputs": [],
   "source": [
    "with connection_engine.begin() as connection:\n",
    "    campaign_df = pd.read_sql_query(sa.text(campaign_query), connection)"
   ]
  },
  {
   "cell_type": "code",
   "execution_count": 607,
   "metadata": {},
   "outputs": [],
   "source": [
    "campaign_events_query = '''\n",
    "SELECT [InteractionEventId]\n",
    "      ,[InteractionId]\n",
    "      ,[ContactId]\n",
    "      ,[DeviceProfileId]\n",
    "      ,[CampaignId]\n",
    "      ,[CampaignDefinitionId]\n",
    "      ,[EventType]\n",
    "      ,[DefinitionId]\n",
    "      ,[ItemId]\n",
    "      ,[Timestamp]\n",
    "      ,[ItemLanguage]\n",
    "      ,[Text]\n",
    "      ,[EngagementValue]\n",
    "      ,[Device]\n",
    "      ,[Browser]\n",
    "      ,[OS]\n",
    "      ,[Referrer]\n",
    "      ,[SearchKeywords]\n",
    "      ,[IsSelfReferrer]\n",
    "      ,[PageName]\n",
    "      ,[TemplateName]\n",
    "      ,[CampaignName]\n",
    "  FROM [mart_schema].[CampaignEvents]\n",
    "'''"
   ]
  },
  {
   "cell_type": "code",
   "execution_count": 608,
   "metadata": {},
   "outputs": [],
   "source": [
    "with connection_engine.begin() as connection:\n",
    "    campaign_event_df = pd.read_sql_query(sa.text(campaign_events_query), connection)"
   ]
  },
  {
   "cell_type": "markdown",
   "metadata": {},
   "source": [
    "## Set And Trim Dates"
   ]
  },
  {
   "cell_type": "code",
   "execution_count": null,
   "metadata": {},
   "outputs": [],
   "source": [
    "campaign_df = set_and_trim_dates(campaign_df)\n",
    "campaign_event_df = set_and_trim_dates(campaign_event_df)"
   ]
  },
  {
   "cell_type": "markdown",
   "metadata": {},
   "source": [
    "## Campaign Summaries"
   ]
  },
  {
   "cell_type": "code",
   "execution_count": 611,
   "metadata": {},
   "outputs": [],
   "source": [
    "def build_campaign_data(camp_df, camp_event_df, pivot_column=None):\n",
    "    group_arr = [pivot_column] + ['CampaignName'] if pivot_column else ['CampaignName']\n",
    "    dummy_arr = [pivot_column] + ['CampaignName', 'EventType'] if pivot_column else ['CampaignName', 'EventType']\n",
    "    sort_val = pivot_column if pivot_column else 'CampaignName'\n",
    "    \n",
    "    # aggregate campaign event types\n",
    "    result_df = camp_event_df.groupby(group_arr)\\\n",
    "        .agg(\n",
    "            CampaignEventCount=('InteractionEventId','count'),\n",
    "            CampaignPageCount=('ItemId',lambda x: x.nunique(dropna=True))\n",
    "        ).reset_index()\n",
    "    \n",
    "    # aggregate activity event types\n",
    "    summary_df = pd.get_dummies(camp_df[dummy_arr]\\\n",
    "                   .sort_values(sort_val),\\\n",
    "               columns=['EventType'],\\\n",
    "               dtype=int)\\\n",
    "        .groupby(group_arr)\\\n",
    "        .agg(['sum'])\\\n",
    "        .reset_index()\n",
    "    \n",
    "    # update column names\n",
    "    summary_df.columns = summary_df.columns.get_level_values(0)\n",
    "    rename_event_columns(summary_df)\n",
    "\n",
    "    # merge activity sums with campaign event sums\n",
    "    summary_df = summary_df.join(result_df.set_index(group_arr), on=group_arr, how='left')\n",
    "\n",
    "    # add events total\n",
    "    count_df = camp_df.groupby(group_arr).agg(EventsTotal=('InteractionEventId','count')).reset_index()\n",
    "    summary_df = summary_df.join(count_df.set_index(group_arr), on=group_arr, how='left')\n",
    "\n",
    "    # Resonance\n",
    "    # ratio of campaign page to campaign events\n",
    "    summary_df['Exposure'] = round(summary_df['CampaignEventCount'] / summary_df['CampaignPageCount'], 1)\n",
    "    # ratio of campaign events to activity events\n",
    "    summary_df['Spread'] = round(summary_df['EventsTotal'] / summary_df['CampaignEventCount'], 1)\n",
    "    # ratio of campaign pages to activity events\n",
    "    summary_df['Reach'] = round(summary_df['EventsTotal'] / summary_df['CampaignPageCount'], 1)\n",
    "\n",
    "    # Balance\n",
    "    # campaign page to campaign event percent change\n",
    "    summary_df['ExposureRatio'] = get_percent_change(summary_df['CampaignEventCount'], summary_df['CampaignPageCount'])\n",
    "    # ratio of campaign events to activity events\n",
    "    summary_df['SpreadRatio'] = get_percent_change(summary_df['EventsTotal'], summary_df['CampaignEventCount'])\n",
    "    # ratio of items to activity events\n",
    "    summary_df['ReachRatio'] = get_percent_change(summary_df['EventsTotal'], summary_df['CampaignPageCount'])\n",
    "\n",
    "    summary_df.fillna(0, inplace=True)\n",
    "\n",
    "    return summary_df\n"
   ]
  },
  {
   "cell_type": "code",
   "execution_count": 612,
   "metadata": {},
   "outputs": [],
   "source": [
    "campaign_summary_df = build_campaign_data(campaign_df, campaign_event_df)\n",
    "campaign_pagetype_summary_df = build_campaign_data(campaign_df, campaign_event_df, 'TemplateName')"
   ]
  },
  {
   "cell_type": "markdown",
   "metadata": {},
   "source": [
    "## Stats"
   ]
  },
  {
   "cell_type": "code",
   "execution_count": null,
   "metadata": {},
   "outputs": [],
   "source": [
    "print(f'All Campaign Events: {len(campaign_df)}')\n",
    "print(f'Campaign Page (Definition) Events: {len(campaign_event_df)}')\n",
    "print(f'Campaign Summary: {len(campaign_summary_df)}')\n",
    "print(f'Campaign Page Summary: {len(campaign_pagetype_summary_df)}')"
   ]
  },
  {
   "cell_type": "code",
   "execution_count": null,
   "metadata": {},
   "outputs": [],
   "source": [
    "campaign_df.info()"
   ]
  },
  {
   "cell_type": "code",
   "execution_count": null,
   "metadata": {},
   "outputs": [],
   "source": [
    "campaign_event_df.info()"
   ]
  },
  {
   "cell_type": "code",
   "execution_count": null,
   "metadata": {},
   "outputs": [],
   "source": [
    "campaign_summary_df.info()"
   ]
  },
  {
   "cell_type": "code",
   "execution_count": null,
   "metadata": {},
   "outputs": [],
   "source": [
    "campaign_pagetype_summary_df.info()"
   ]
  },
  {
   "cell_type": "markdown",
   "metadata": {},
   "source": [
    "## Plots"
   ]
  },
  {
   "cell_type": "code",
   "execution_count": null,
   "id": "812a5029",
   "metadata": {},
   "outputs": [],
   "source": [
    "plot_bar_stack(campaign_event_df, 'CampaignName', 'TimestampSortDate', 'Campaign Events by Year/Month', plot_size=(16, 6))"
   ]
  },
  {
   "cell_type": "code",
   "execution_count": null,
   "metadata": {},
   "outputs": [],
   "source": [
    "def plot_combined_bars():\n",
    "    color_bar = ['#6495ed','#7b68ee','#0240fa','#9b1cfc']\n",
    "    temp_df = campaign_df[['EventType', 'CampaignName', 'TimestampSortDate']]\n",
    "    temp_df.loc[temp_df['EventType'] == 'Goal', 'CampaignName'] = temp_df['CampaignName'] + ' Goals'\n",
    "    temp_df.sort_values('CampaignName', inplace=True)\n",
    "    plot_bar_stack(temp_df, 'CampaignName', 'TimestampSortDate', 'Campaign by Year/Month', colors=color_bar, plot_size=(16, 6), y_label='Events')\n",
    "\n",
    "plot_combined_bars()"
   ]
  },
  {
   "cell_type": "code",
   "execution_count": null,
   "metadata": {},
   "outputs": [],
   "source": [
    "#plot_bar(campaign_summary_df, 'CampaignName', ['Spread'], 'Page Type Campaign Performance', 'Page Type')         \n",
    "plot_bar(campaign_summary_df, 'CampaignName', ['Exposure', 'Reach'], 'Page Type Campaign Performance', '', rotate_labels=False)        "
   ]
  },
  {
   "cell_type": "code",
   "execution_count": null,
   "metadata": {},
   "outputs": [],
   "source": [
    "campaigns = campaign_df.CampaignName.unique()\n",
    "print(f'There are {len(campaigns)} campaigns')\n",
    "\n",
    "for c in campaigns:\n",
    "    if(c == None):\n",
    "        continue\n",
    "\n",
    "    print(f'-------------- {c} --------------')\n",
    "\n",
    "    c_data = campaign_df[campaign_df['CampaignName'] == c]\n",
    "    ce_data = campaign_event_df[campaign_event_df['CampaignName'] == c]\n",
    "    cg_data = c_data[c_data.EventType == 'Goal']\n",
    "    c_sum_data = campaign_summary_df[campaign_summary_df['CampaignName'] == c]\n",
    "    c_sum_pt_data = campaign_pagetype_summary_df[campaign_pagetype_summary_df['CampaignName'] == c]\n",
    "    \n",
    "    unique_contacts = c_data.ContactId.nunique()\n",
    "    unique_goal_contacts = cg_data.ContactId.nunique()\n",
    "    unique_interactions = cg_data.InteractionId.nunique()\n",
    "    print(f'{unique_interactions} interactions')\n",
    "    print(f'{unique_contacts} unique contacts')\n",
    "    print(f'{len(cg_data)} goals hit')\n",
    "    print(f'{unique_goal_contacts} unique contacts hitting goals')\n",
    "    print(f'{((unique_goal_contacts/unique_contacts)*100):.0f}% contacts hit goals')\n",
    "    print(f'{sum(cg_data.EngagementValue):,.0f} total engagement value')\n",
    "\n",
    "    print(f'Campaign Events: {len(ce_data)}')\n",
    "    print(f'Campaign Pages: {ce_data[\"ItemId\"].nunique()}')\n",
    "    print(f'User Activity (all events): {len(c_data)}')\n",
    "    print(f'Page View Events: {len(c_data[c_data.EventType == \"PageViewEvent\"])}')\n",
    "\n",
    "    # Spread - how many new page types were hit\n",
    "    c_growth_df = c_sum_pt_data[c_sum_pt_data['CampaignEventCount'] == 0]\n",
    "    print(f'The page types growth by {len(c_growth_df)}')\n",
    "    print(c_growth_df['TemplateName'].unique())\n",
    "    \n",
    "    # Gain - net new activity on the page spread\n",
    "    print(f'There was a gain of {c_growth_df[\"PageViewEvent\"].sum()} page views')\n",
    "    print(f'There was a total gain of {c_growth_df[\"EventsTotal\"].sum()} events')\n",
    "\n",
    "    plot_horiz_hist(ce_data, 'PageName', 'Campaign Events', single_color=True, size=(12,8))\n",
    "    plot_pie(ce_data, 'TemplateName', 'Page Type')\n",
    "    plot_horiz_hist(c_data, 'PageName', 'Page Activity', single_color=True, size=(20,12))\n",
    "    plot_horiz_hist(ce_data, 'TemplateName', 'Campaign Event Page Types', single_color=True, size=(10,5))\n",
    "    plot_horiz_hist(c_data, 'TemplateName', 'Campaign Activity Page Types', single_color=True, size=(10,5))\n",
    "    plot_pie(c_data, 'Device', 'Devices')\n",
    "    plot_pie(c_data, 'Browser', 'Browsers')\n",
    "    plot_pie(c_data, 'OS', 'OSs')\n",
    "    plot_pie(c_data, 'EventType', 'Event Type')\n",
    "\n",
    "    plot_bar(c_sum_data, 'CampaignName', ['Exposure', 'Reach'], 'Page Type Campaign Performance', '', rotate_labels=False)         \n",
    "    c_sum_struct_data = c_sum_pt_data[c_sum_pt_data['CampaignEventCount'] > 0]\n",
    "    #plot_bar(c_sum_struct_data, 'TemplateName', ['Spread'], 'Page Type Campaign Resonance', 'Page Type')         \n",
    "    plot_bar(c_sum_struct_data, 'TemplateName', ['Exposure', 'Reach'], 'Campaign Resonance by Page Type', '')         \n",
    "    #plot_bar(c_sum_struct_data, 'TemplateName', ['ExposureRatio', 'ReachRatio'], 'Page Type Campaign Balance', 'Page Type')         "
   ]
  },
  {
   "cell_type": "markdown",
   "metadata": {},
   "source": [
    "# Goals"
   ]
  },
  {
   "cell_type": "markdown",
   "metadata": {},
   "source": [
    "## Query"
   ]
  },
  {
   "cell_type": "code",
   "execution_count": 615,
   "metadata": {},
   "outputs": [],
   "source": [
    "goal_query = '''\n",
    "SELECT [InteractionEventId]\n",
    "      ,[InteractionId]\n",
    "      ,[ContactId]\n",
    "      ,[DeviceProfileId]\n",
    "      ,[CampaignId]\n",
    "      ,[CampaignDefinitionId]\n",
    "      ,[EventType]\n",
    "      ,[DefinitionId]\n",
    "      ,[ItemId]\n",
    "      ,[Timestamp]\n",
    "      ,[ItemLanguage]\n",
    "      ,[Text]\n",
    "      ,[EngagementValue]\n",
    "      ,[Device]\n",
    "      ,[Browser]\n",
    "      ,[OS]\n",
    "      ,[Referrer]\n",
    "      ,[SearchKeywords]\n",
    "      ,[IsSelfReferrer]\n",
    "      ,[PageName]\n",
    "      ,[TemplateName]\n",
    "      ,[GoalName]\n",
    "  FROM [mart_schema].[Goals]\n",
    "'''"
   ]
  },
  {
   "cell_type": "code",
   "execution_count": 616,
   "metadata": {},
   "outputs": [],
   "source": [
    "with connection_engine.begin() as connection:\n",
    "    goal_df = pd.read_sql_query(sa.text(goal_query), connection)"
   ]
  },
  {
   "cell_type": "markdown",
   "metadata": {},
   "source": [
    "## Set And Trim Dates"
   ]
  },
  {
   "cell_type": "code",
   "execution_count": null,
   "metadata": {},
   "outputs": [],
   "source": [
    "goal_df = set_and_trim_dates(goal_df)"
   ]
  },
  {
   "cell_type": "markdown",
   "metadata": {},
   "source": [
    "## Stats"
   ]
  },
  {
   "cell_type": "code",
   "execution_count": null,
   "metadata": {},
   "outputs": [],
   "source": [
    "len(goal_df)"
   ]
  },
  {
   "cell_type": "code",
   "execution_count": null,
   "metadata": {},
   "outputs": [],
   "source": [
    "goal_df.info()"
   ]
  },
  {
   "cell_type": "code",
   "execution_count": null,
   "metadata": {},
   "outputs": [],
   "source": [
    "# number of contacts on those goals\n",
    "goal_df.ContactId.nunique()"
   ]
  },
  {
   "cell_type": "markdown",
   "metadata": {},
   "source": [
    "## Plots"
   ]
  },
  {
   "cell_type": "code",
   "execution_count": null,
   "metadata": {},
   "outputs": [],
   "source": [
    "plot_horiz_hist(goal_df, 'GoalName', 'Goals Distribution', single_color=True)\n",
    "plot_horiz_hist(goal_df, 'TemplateName', title=\"Goal Page by Type\", single_color=True, size=(10,10))"
   ]
  },
  {
   "cell_type": "code",
   "execution_count": null,
   "metadata": {},
   "outputs": [],
   "source": [
    "plot_line_by_group(goal_df, ['TimestampSortDate', 'GoalName'], 'EngagementValue', 'Goals by Month', 'Year/Month', 'Engagement Value')"
   ]
  },
  {
   "cell_type": "code",
   "execution_count": null,
   "metadata": {},
   "outputs": [],
   "source": [
    "temp_df = goal_df.groupby('TemplateName')\\\n",
    "    .agg(\n",
    "        ItemCount=('ItemId',lambda x: x.nunique(dropna=True))\n",
    "    ).reset_index()\n",
    "\n",
    "temp_list = temp_df[temp_df['ItemCount'] >= 3]['TemplateName'].unique()\n",
    "plot_goal_ratios(goal_df[goal_df.TemplateName.isin(temp_list)], ['Goal Page Hits', 'Goal Pages', 'Hits per Goal'])"
   ]
  },
  {
   "cell_type": "markdown",
   "metadata": {},
   "source": [
    "# Errors"
   ]
  },
  {
   "cell_type": "markdown",
   "metadata": {},
   "source": [
    "## Query"
   ]
  },
  {
   "cell_type": "code",
   "execution_count": 622,
   "metadata": {},
   "outputs": [],
   "source": [
    "error_query = '''\n",
    "SELECT [InteractionEventId]\n",
    "      ,[InteractionId]\n",
    "      ,[ContactId]\n",
    "      ,[DeviceProfileId]\n",
    "      ,[CampaignId]\n",
    "      ,[CampaignDefinitionId]\n",
    "      ,[EventType]\n",
    "      ,[DefinitionId]\n",
    "      ,[ItemId]\n",
    "      ,[Timestamp]\n",
    "      ,[ItemLanguage]\n",
    "      ,[Text]\n",
    "      ,[EngagementValue]\n",
    "      ,[Device]\n",
    "      ,[Browser]\n",
    "      ,[OS]\n",
    "      ,[Referrer]\n",
    "      ,[SearchKeywords]\n",
    "      ,[IsSelfReferrer]\n",
    "      ,[PageName]\n",
    "      ,[TemplateName]\n",
    "  FROM [mart_schema].[Errors]\n",
    "'''"
   ]
  },
  {
   "cell_type": "code",
   "execution_count": 623,
   "metadata": {},
   "outputs": [],
   "source": [
    "with connection_engine.begin() as connection:\n",
    "    error_df = pd.read_sql_query(sa.text(error_query), connection)"
   ]
  },
  {
   "cell_type": "markdown",
   "id": "c18dc3d0",
   "metadata": {},
   "source": [
    "## Set And Trim Dates"
   ]
  },
  {
   "cell_type": "code",
   "execution_count": null,
   "metadata": {},
   "outputs": [],
   "source": [
    "error_df = set_and_trim_dates(error_df)"
   ]
  },
  {
   "cell_type": "markdown",
   "metadata": {},
   "source": [
    "## Stats"
   ]
  },
  {
   "cell_type": "code",
   "execution_count": null,
   "metadata": {},
   "outputs": [],
   "source": [
    "len(error_df)"
   ]
  },
  {
   "cell_type": "code",
   "execution_count": null,
   "metadata": {},
   "outputs": [],
   "source": [
    "error_df.info()"
   ]
  },
  {
   "cell_type": "code",
   "execution_count": null,
   "metadata": {},
   "outputs": [],
   "source": [
    "# top 10 pages with errors in the last month\n",
    "error_df[(error_df['EventType'] == 'Error')].groupby(['PageName'])['PageName'].count().sort_values(ascending=False).head(10)"
   ]
  },
  {
   "cell_type": "code",
   "execution_count": null,
   "metadata": {},
   "outputs": [],
   "source": [
    "error_df[(error_df['EventType'] == 'Error')].groupby(['Text'])['Text'].count().sort_values(ascending=False).head(10)"
   ]
  },
  {
   "cell_type": "markdown",
   "metadata": {},
   "source": [
    "## Plots"
   ]
  },
  {
   "cell_type": "code",
   "execution_count": null,
   "metadata": {},
   "outputs": [],
   "source": [
    "# start plot space and hide background\n",
    "fig, ax = plt.subplots()\n",
    "fig.patch.set_alpha(0)\n",
    "fig.set_size_inches(16, 6)\n",
    "\n",
    "# create a second y axis\n",
    "ax2 = ax.twinx()  \n",
    "\n",
    "e_counts = error_df[error_df['EventType'] == 'Error'].groupby('TimestampSortDate')['InteractionEventId'].count().reset_index(name='count')\n",
    "lp1 = sns.lineplot(data=e_counts, x=\"TimestampSortDate\", y=\"count\", color=plot_palette_hex[6], ax=ax, label='Errors', legend=False, errorbar=None)\n",
    "lp1.patch.set_alpha(0)\n",
    "\n",
    "npv_counts = error_df[(error_df['EventType'] == 'PageViewEvent')].groupby('TimestampSortDate')['InteractionEventId'].count().reset_index(name='count')\n",
    "lp2 = sns.lineplot(data=npv_counts, x=\"TimestampSortDate\", y=\"count\", color=plot_palette_hex[7], ax=ax2, label='Null Page Views', legend=False, errorbar=None)\n",
    "lp2.patch.set_alpha(0)\n",
    "\n",
    "# join the legends from different plots\n",
    "lb1 = lp1.get_legend_handles_labels()\n",
    "lb2 = lp2.get_legend_handles_labels()\n",
    "labels = lb1[1] + lb2[1]\n",
    "handles = lb1[0] + lb2[0]\n",
    "ax2.legend(handles, labels, loc='upper left', bbox_to_anchor=(1.15, 1), edgecolor='black', shadow=False, fancybox=False)\n",
    "\n",
    "# set axis labels\n",
    "ax.set_ylabel('Errors')\n",
    "ax2.set_ylabel('Null Page Views')\n",
    "ax.set_xlabel('Year/Month')\n",
    "\n",
    "# hide axis spines\n",
    "spines = ['right', 'left', 'top']\n",
    "for s in spines:\n",
    "    ax.spines[s].set_visible(False)\n",
    "    ax2.spines[s].set_visible(False)\n",
    "\n",
    "# only display every fourth tick\n",
    "ticks = ax.get_xticks()\n",
    "labels = ax.get_xticklabels()\n",
    "ax.set_xticks(ticks[3::4])\n",
    "ax.set_xticklabels(labels[3::4]) \n",
    "ax.xaxis.set_tick_params(rotation=45)\n",
    "\n",
    "# set the number format for labels\n",
    "ax.yaxis.set_major_formatter(ticker.FuncFormatter(format_func))\n",
    "ax2.yaxis.set_major_formatter(ticker.FuncFormatter(format_func))\n",
    "\n",
    "# hide tick marks and show gray grid\n",
    "ax.tick_params(axis='y', length=0)\n",
    "ax2.grid(True, axis='y', color=grid_gray)\n",
    "ax2.set_axisbelow(True)\n",
    "ax2.tick_params(axis='y', length=0)\n",
    "\n",
    "# adjust and show\n",
    "plt.tight_layout()\n",
    "plt.show()"
   ]
  },
  {
   "cell_type": "markdown",
   "metadata": {},
   "source": [
    "# IPs"
   ]
  },
  {
   "cell_type": "code",
   "execution_count": null,
   "metadata": {},
   "outputs": [],
   "source": [
    "ip_query = '''\n",
    "SELECT \n",
    "    [InteractionId]\n",
    "    ,[ContactId]\n",
    "    ,[IpAddress]\n",
    "FROM [dbo].[IF_IpInfos]'''\n",
    "\n",
    "with connection_engine.begin() as connection:\n",
    "    ip_df = pd.read_sql_query(sa.text(ip_query), connection)"
   ]
  },
  {
   "cell_type": "code",
   "execution_count": null,
   "metadata": {},
   "outputs": [],
   "source": [
    "unique_ips = pd.DataFrame(ip_df['IpAddress'].unique())\n",
    "unique_ips.columns = ['IpAddress']\n",
    "print(len(unique_ips))"
   ]
  },
  {
   "cell_type": "code",
   "execution_count": null,
   "metadata": {},
   "outputs": [],
   "source": [
    "ip_data_df = get_ip_data(unique_ips['IpAddress'], '{Your API Token}')"
   ]
  },
  {
   "cell_type": "code",
   "execution_count": null,
   "metadata": {},
   "outputs": [],
   "source": [
    "ip_data_df[['lat', 'lon']] = ip_data_df['loc'].str.split(',', expand=True)\n",
    "ip_data_df['lat'] = ip_data_df['lat'].astype(float)\n",
    "ip_data_df['lon'] = ip_data_df['lon'].astype(float)\n",
    "ip_data_df.to_csv(\"all_clean_ip_data.csv\", index=False)\n",
    "\n",
    "ip_int_df = ip_df.merge(ip_data_df, left_on='IpAddress', right_on='IP', how='left')"
   ]
  },
  {
   "cell_type": "markdown",
   "metadata": {},
   "source": [
    "# Interactions"
   ]
  },
  {
   "cell_type": "markdown",
   "metadata": {},
   "source": [
    "## Query"
   ]
  },
  {
   "cell_type": "code",
   "execution_count": null,
   "metadata": {},
   "outputs": [],
   "source": [
    "interaction_query = '''\n",
    "SELECT [InteractionId]\n",
    "      ,[CampaignEvent]\n",
    "      ,[ChangeProfileScoresEvent]\n",
    "      ,[Error]\n",
    "      ,[GenericEvent]\n",
    "      ,[Goal]\n",
    "      ,[MVTestTriggered]\n",
    "      ,[PageViewEvent]\n",
    "      ,[PersonalizationEvent]\n",
    "      ,[CompletedGoal]\n",
    "      ,[IsPersonalized]\n",
    "      ,[SawCampaign]\n",
    "      ,[PageDuration]\n",
    "      ,[PageDurationInSeconds]\n",
    "      ,[ContactId]\n",
    "      ,[ItemCount]\n",
    "      ,[PagesPerMinute]\n",
    "      ,[PagesPerSecond]\n",
    "      ,[EventCount]\n",
    "      ,[InteractionDuration]\n",
    "      ,[Timestamp]\n",
    "      ,[FirstInteraction]\n",
    "      ,[EngagementValue]\n",
    "  FROM [mart_schema].[Interactions]\n",
    "'''"
   ]
  },
  {
   "cell_type": "code",
   "execution_count": null,
   "metadata": {},
   "outputs": [],
   "source": [
    "with connection_engine.begin() as connection:\n",
    "    interaction_df = pd.read_sql_query(sa.text(interaction_query), connection)"
   ]
  },
  {
   "cell_type": "markdown",
   "metadata": {},
   "source": [
    "## Set And Trim Dates"
   ]
  },
  {
   "cell_type": "code",
   "execution_count": null,
   "metadata": {},
   "outputs": [],
   "source": [
    "interaction_df = set_and_trim_dates(interaction_df)"
   ]
  },
  {
   "cell_type": "markdown",
   "metadata": {},
   "source": [
    "## Set Null Change Profile Scores"
   ]
  },
  {
   "cell_type": "code",
   "execution_count": null,
   "metadata": {},
   "outputs": [],
   "source": [
    "interaction_df['ChangeProfileScoresEvent'].fillna(0, inplace=True)"
   ]
  },
  {
   "cell_type": "markdown",
   "metadata": {},
   "source": [
    "## Stats"
   ]
  },
  {
   "cell_type": "code",
   "execution_count": null,
   "metadata": {},
   "outputs": [],
   "source": [
    "len(interaction_df)"
   ]
  },
  {
   "cell_type": "code",
   "execution_count": null,
   "metadata": {},
   "outputs": [],
   "source": [
    "interaction_df.info()"
   ]
  },
  {
   "cell_type": "code",
   "execution_count": null,
   "id": "9c9f75a1",
   "metadata": {},
   "outputs": [],
   "source": [
    "interaction_df.head(2).transpose()"
   ]
  },
  {
   "cell_type": "code",
   "execution_count": null,
   "id": "da03d3de",
   "metadata": {},
   "outputs": [],
   "source": [
    "print(f'Interaction Duration Average: {round(np.mean(interaction_df.InteractionDuration),2)} min')\n",
    "print(f'Interaction Duration Standard Deviation: {round(np.std(interaction_df.InteractionDuration),2)} min')\n",
    "print(f'Interaction Duration In Seconds Average: {round(np.mean(interaction_df.PageDurationInSeconds),0)} sec')\n",
    "print(f'Interaction Duration In Seconds Standard Deviation: {round(np.std(interaction_df.PageDurationInSeconds),0)} sec')\n",
    "print(f'Pages Per Minute Average: {round(np.mean(interaction_df.PagesPerMinute),2)} ppm')\n",
    "print(f'Pages Per Minute Standard Deviation: {round(np.std(interaction_df.PagesPerMinute),2)} ppm')\n",
    "print(f'Pages Per Second Average: {round(np.mean(interaction_df.PagesPerSecond),0)} pps')\n",
    "print(f'Pages Per Second Standard Deviation: {round(np.std(interaction_df.PagesPerSecond),0)} pps')\n",
    "print(f'Item Count Average: {round(np.mean(interaction_df.ItemCount),1)} items')\n",
    "print(f'Item Count Standard Deviation: {round(np.std(interaction_df.ItemCount),1)} items')\n",
    "print(f'Page View Average: {round(np.mean(interaction_df.PageViewEvent),1)} page views')\n",
    "print(f'Page View Standard Deviation: {round(np.std(interaction_df.PageViewEvent),1)} page views')"
   ]
  },
  {
   "cell_type": "markdown",
   "metadata": {},
   "source": [
    "## Plots"
   ]
  },
  {
   "cell_type": "markdown",
   "id": "da396a6b",
   "metadata": {},
   "source": [
    "### Initial Plots"
   ]
  },
  {
   "cell_type": "code",
   "execution_count": null,
   "id": "2d718b1e",
   "metadata": {},
   "outputs": [],
   "source": [
    "values = ['PagesPerMinute',\n",
    "          'PageDuration',\n",
    "          'ItemCount',\n",
    "          'PageViewEvent', \n",
    "          'PersonalizationEvent',\n",
    "          'CampaignEvent', \n",
    "          'Goal', \n",
    "          'ChangeProfileScoresEvent', \n",
    "          'MVTestTriggered', \n",
    "          'Error', \n",
    "          'EventCount',\n",
    "          'EngagementValue']\n",
    "\n",
    "plot_hist_grid(interaction_df, values, 3, 4)"
   ]
  },
  {
   "cell_type": "markdown",
   "id": "69118ce4",
   "metadata": {},
   "source": [
    "### Page Per Minute Drill Down"
   ]
  },
  {
   "cell_type": "code",
   "execution_count": null,
   "id": "0daae45f",
   "metadata": {},
   "outputs": [],
   "source": [
    "interaction_df[interaction_df['PagesPerMinute'] > 3]['PagesPerMinute'].hist(bins=100)\n",
    "plt.xlabel('Pages Per Minute')\n",
    "plt.ylabel('Interactions')\n",
    "plt.title('Pages Per Minute > 3')\n",
    "plt.show()\n",
    "\n",
    "interaction_df[interaction_df['PagesPerMinute'] > 10]['PagesPerMinute'].hist(bins=100)\n",
    "plt.xlabel('Pages Per Minute')\n",
    "plt.ylabel('Interactions')\n",
    "plt.title('Pages Per Minute > 10')\n",
    "plt.show()\n",
    "\n",
    "interaction_df[interaction_df['PagesPerMinute'] > 20]['PagesPerMinute'].hist(bins=100)\n",
    "plt.xlabel('Pages Per Minute')\n",
    "plt.ylabel('Interactions')\n",
    "plt.title('Pages Per Minute > 20')\n",
    "plt.show()"
   ]
  },
  {
   "cell_type": "code",
   "execution_count": null,
   "metadata": {},
   "outputs": [],
   "source": [
    "interaction_df[interaction_df['PagesPerMinute'] > 20]['PageDurationInSeconds'].hist(bins=100)\n",
    "plt.xlabel('Page Duration In Seconds')\n",
    "plt.ylabel('Interactions')\n",
    "plt.title('Pages Per Minute > 20')\n",
    "plt.show()"
   ]
  },
  {
   "cell_type": "markdown",
   "metadata": {},
   "source": [
    "### Page Per Minute - Extreme Value Analysis"
   ]
  },
  {
   "cell_type": "code",
   "execution_count": null,
   "metadata": {},
   "outputs": [],
   "source": [
    "# what do the interactions look like at a high PPM and a long duration\n",
    "interaction_df[(interaction_df['PagesPerMinute'] > 60) & (interaction_df['PageDurationInSeconds'] > 140)].head(2).transpose()"
   ]
  },
  {
   "cell_type": "code",
   "execution_count": null,
   "metadata": {},
   "outputs": [],
   "source": [
    "plot_scatter(interaction_df[(interaction_df['PagesPerMinute'] > 60)], 'PagesPerMinute', 'PageDuration', 'ItemCount', 'PageViewEvent', \n",
    "             title=\"Pages Per Minute > 60\", show_legend=True, plot_size=(14,6), colors=None, x_label='Pages Per Minute', y_label='Page Duration (min.)')"
   ]
  },
  {
   "cell_type": "code",
   "execution_count": null,
   "metadata": {},
   "outputs": [],
   "source": [
    "interaction_df[(interaction_df['PagesPerMinute'] > 500)]"
   ]
  },
  {
   "cell_type": "markdown",
   "metadata": {},
   "source": [
    "### Page Duration - Extreme Value Analysis"
   ]
  },
  {
   "cell_type": "code",
   "execution_count": null,
   "metadata": {},
   "outputs": [],
   "source": [
    "interaction_df[interaction_df['PageDuration'] > 83]['PageDuration'].hist(bins=100)\n",
    "plt.show()"
   ]
  },
  {
   "cell_type": "code",
   "execution_count": null,
   "metadata": {},
   "outputs": [],
   "source": [
    "interaction_df[(interaction_df['PageDurationInSeconds'] > 25000)].head(2).transpose()"
   ]
  },
  {
   "cell_type": "code",
   "execution_count": null,
   "metadata": {},
   "outputs": [],
   "source": [
    "plot_scatter(interaction_df[(interaction_df['PageDuration'] > 60)], 'PagesPerMinute', 'PageDuration', 'ItemCount', 'PageViewEvent', \n",
    "             title=\"Page Duration > 60 min.\", show_legend=True, plot_size=(14,6), colors=None, x_label='Pages Per Minute', y_label='Page Duration (min.)')"
   ]
  },
  {
   "cell_type": "markdown",
   "metadata": {},
   "source": [
    "### Item Count - Extreme Value Analysis"
   ]
  },
  {
   "cell_type": "code",
   "execution_count": null,
   "metadata": {},
   "outputs": [],
   "source": [
    "interaction_df[interaction_df['ItemCount'] > 10]['ItemCount'].hist(bins=100)\n",
    "plt.show()"
   ]
  },
  {
   "cell_type": "code",
   "execution_count": null,
   "metadata": {},
   "outputs": [],
   "source": [
    "interaction_df[(interaction_df['ItemCount'] > 45)].head(2).transpose()"
   ]
  },
  {
   "cell_type": "code",
   "execution_count": null,
   "metadata": {},
   "outputs": [],
   "source": [
    "plot_scatter(interaction_df[(interaction_df['ItemCount'] > 25)], 'PagesPerMinute', 'PageDuration', 'ItemCount', 'PageViewEvent', \n",
    "             title=\"Item Count > 25\", show_legend=True, plot_size=(14,6), colors=None, x_label='Pages Per Minute', y_label='Page Duration (min.)')"
   ]
  },
  {
   "cell_type": "markdown",
   "id": "83a35d09",
   "metadata": {},
   "source": [
    "### Event Count Drill Down"
   ]
  },
  {
   "cell_type": "code",
   "execution_count": null,
   "id": "d664df7f",
   "metadata": {},
   "outputs": [],
   "source": [
    "interaction_df[interaction_df['EventCount'] <= 10]['EventCount'].hist(edgecolor='black', rwidth=0.75)\n",
    "plt.xlabel('Event Count')\n",
    "plt.ylabel('Interaction Count')\n",
    "plt.title('Event Count Distribution (<= 10)')\n",
    "plt.show()"
   ]
  },
  {
   "cell_type": "code",
   "execution_count": null,
   "id": "622dbff9",
   "metadata": {},
   "outputs": [],
   "source": [
    "print(len(interaction_df[interaction_df['EventCount'] > 10]))\n",
    "interaction_df[interaction_df['EventCount'] > 10]['EventCount'].hist(edgecolor='black', rwidth=0.75)\n",
    "plt.xlabel('Event Count')\n",
    "plt.ylabel('Interaction Count')\n",
    "plt.title('Event Count Distribution (> 10)')\n",
    "plt.show()"
   ]
  },
  {
   "cell_type": "code",
   "execution_count": null,
   "id": "f2f0597c",
   "metadata": {},
   "outputs": [],
   "source": [
    "print(len(interaction_df[interaction_df['EventCount'] > 50]))\n",
    "interaction_df[interaction_df['EventCount'] > 50]['EventCount'].hist(edgecolor='black', rwidth=0.75)\n",
    "plt.xlabel('Event Count')\n",
    "plt.ylabel('Interaction Count')\n",
    "plt.title('Event Count Distribution (> 50)')\n",
    "plt.show()"
   ]
  },
  {
   "cell_type": "code",
   "execution_count": null,
   "id": "d57942e6",
   "metadata": {},
   "outputs": [],
   "source": [
    "print(len(interaction_df[interaction_df['EventCount'] > 150]))\n",
    "interaction_df[interaction_df['EventCount'] > 150]['EventCount'].hist(edgecolor='black', rwidth=0.75)\n",
    "plt.xlabel('Event Count')\n",
    "plt.ylabel('Interaction Count')\n",
    "plt.title('Event Count Distribution (> 150)')\n",
    "plt.show()"
   ]
  },
  {
   "cell_type": "code",
   "execution_count": null,
   "id": "ffca7faa",
   "metadata": {},
   "outputs": [],
   "source": [
    "# Error Free Interactions over 60 Events\n",
    "print(len(interaction_df[(interaction_df['EventCount'] > 60) & (interaction_df['Error'] == 0)]))\n",
    "interaction_df[(interaction_df['EventCount'] > 60) & (interaction_df['Error'] == 0)]['EventCount'].hist(edgecolor='black', rwidth=0.75)\n",
    "plt.xlabel('Event Count')\n",
    "plt.ylabel('Interaction Count')\n",
    "plt.title('Event Count Distribution (> 60) with No Errors')\n",
    "plt.show()\n"
   ]
  },
  {
   "cell_type": "markdown",
   "id": "17194483",
   "metadata": {},
   "source": [
    "### Page View Event Drill Down"
   ]
  },
  {
   "cell_type": "code",
   "execution_count": 185,
   "id": "8a1b0292",
   "metadata": {},
   "outputs": [],
   "source": [
    "def print_ppm_stats(temp_df):\n",
    "    print(f'PPM Min: {temp_df[\"PagesPerMinute\"].min()}')\n",
    "    print(f'PPM Max: {temp_df[\"PagesPerMinute\"].max()}')\n",
    "    print(f'PPM Std: {temp_df[\"PagesPerMinute\"].std()}')"
   ]
  },
  {
   "cell_type": "code",
   "execution_count": null,
   "id": "8278c75c",
   "metadata": {},
   "outputs": [],
   "source": [
    "contact_count = len(interaction_df[interaction_df['PageViewEvent'] <= 10]['ContactId'].unique())\n",
    "plot_hist(interaction_df[interaction_df['PageViewEvent'] <= 10], 'PageViewEvent', title=f'Page Views <= 10 - {contact_count:,} Contacts')\n",
    "print_ppm_stats(interaction_df[interaction_df['PageViewEvent'] <= 10])"
   ]
  },
  {
   "cell_type": "code",
   "execution_count": null,
   "id": "afc78f19",
   "metadata": {},
   "outputs": [],
   "source": [
    "contact_count = len(interaction_df[interaction_df['PageViewEvent'] > 10]['ContactId'].unique())\n",
    "plot_hist(interaction_df[interaction_df['PageViewEvent'] > 10], 'PageViewEvent', title=f'Page Views > 10 - {contact_count:,} Contacts')"
   ]
  },
  {
   "cell_type": "code",
   "execution_count": null,
   "id": "035e3a2e",
   "metadata": {},
   "outputs": [],
   "source": [
    "contact_count = len(interaction_df[interaction_df['PageViewEvent'] > 30]['ContactId'].unique())\n",
    "plot_hist(interaction_df[interaction_df['PageViewEvent'] > 30], 'PageViewEvent', title=f'Page Views > 30 - {contact_count:,} Contacts')\n",
    "# get the min/max/mean/std of PagesPerMinute and MaxInteractionsPerDay\n",
    "print_ppm_stats(interaction_df[interaction_df['PageViewEvent'] > 30])"
   ]
  },
  {
   "cell_type": "code",
   "execution_count": null,
   "id": "ab8df781",
   "metadata": {},
   "outputs": [],
   "source": [
    "plot_hist(interaction_df[interaction_df['PageViewEvent'] > 30], 'TimestampSortDate')\n",
    "print_ppm_stats(interaction_df[interaction_df['PageViewEvent'] > 30])"
   ]
  },
  {
   "cell_type": "markdown",
   "metadata": {},
   "source": [
    "### Target Audience"
   ]
  },
  {
   "cell_type": "code",
   "execution_count": null,
   "metadata": {},
   "outputs": [],
   "source": [
    "aud_cond_1 = interaction_df['PagesPerMinute'] <= 1\n",
    "aud_cond_2 = interaction_df['PageDuration'] > 3\n",
    "aud_cond_3 = interaction_df['ItemCount'] > 2\n",
    "aud_df = interaction_df[aud_cond_1 & aud_cond_2 & aud_cond_3]\n",
    "print(f'{len(aud_df)} Interactions')\n",
    "print(f'{len(aud_df.ContactId.unique())} Contacts')\n",
    "print(f'{(aud_df[\"PagesPerMinute\"].mean()):.2f} Average Pages Per Minute')\n",
    "print(f'{(aud_df[\"ItemCount\"].mean()):.2f} Average Item Count')\n",
    "print(f'{(aud_df[\"PageDuration\"].mean()):.2f} Average Page Duration')\n",
    "\n",
    "plot_scatter(aud_df, 'PagesPerMinute', 'PageDuration', 'ItemCount', 'PageViewEvent', \n",
    "             title=\"Pages Per Minute <= 1, Page Duration > 3 min., and Item Count > 2\", \n",
    "             show_legend=True, plot_size=(11,6), colors=None, x_label='Pages Per Minute', y_label='Page Duration (min.)')"
   ]
  },
  {
   "cell_type": "code",
   "execution_count": null,
   "metadata": {},
   "outputs": [],
   "source": [
    "aud_cond_1 = interaction_df['PagesPerMinute'] <= 1\n",
    "aud_cond_2 = interaction_df['PageDuration'] > 100\n",
    "aud_df = interaction_df[aud_cond_1 & aud_cond_2]\n",
    "print(f'{len(interaction_df)} Interactions')\n",
    "print(f'{len(aud_df)} Interactions')\n",
    "print(f'{len(aud_df.ContactId.unique())} Contacts')\n",
    "print(f'{(aud_df[\"PagesPerMinute\"].mean()):.2f} Average Pages Per Minute')\n",
    "print(f'{(aud_df[\"ItemCount\"].mean()):.2f} Average Item Count')\n",
    "print(f'{(aud_df[\"PageDuration\"].mean()):.2f} Average Page Duration')\n",
    "\n",
    "plot_scatter(aud_df, 'PagesPerMinute', 'PageDuration', 'ItemCount', 'PageViewEvent', \n",
    "             title=\"Pages Per Minute <= 1, Page Duration > 100 min.\", \n",
    "             show_legend=True, plot_size=(11,6), colors=None, x_label=\"Pages Per Minute\", y_label=\"Page Duration (min.)\")"
   ]
  },
  {
   "cell_type": "code",
   "execution_count": null,
   "metadata": {},
   "outputs": [],
   "source": [
    "int_ids = aud_df['InteractionId'].tolist()\n",
    "print(int_ids)\n",
    "long_int_df = event_df[(event_df.InteractionId.isin(int_ids)) & (event_df.EventType == 'PageViewEvent')]\n",
    "\n",
    "page_sums_df = pd.get_dummies(long_int_df[['PageName']],\\\n",
    "               columns=['PageName'],\\\n",
    "               dtype=int)\\\n",
    "    .agg(['sum'])\n",
    "\n",
    "page_sums_df.columns = page_sums_df.columns.get_level_values(0)\n",
    "page_sums_df = page_sums_df.rename(columns=lambda col: col.replace(\"PageName_\", \"\"))\n",
    "page_sums_df.transpose().sort_values('sum', ascending=False)"
   ]
  },
  {
   "cell_type": "markdown",
   "id": "0856b70c",
   "metadata": {},
   "source": [
    "### Stats"
   ]
  },
  {
   "cell_type": "code",
   "execution_count": null,
   "id": "f0f66fe5",
   "metadata": {},
   "outputs": [],
   "source": [
    "len(interaction_df[interaction_df['PagesPerSecond'] > 0])"
   ]
  },
  {
   "cell_type": "code",
   "execution_count": null,
   "id": "4f55856b",
   "metadata": {},
   "outputs": [],
   "source": [
    "len(interaction_df[interaction_df['PagesPerSecond'] >= 1])"
   ]
  },
  {
   "cell_type": "code",
   "execution_count": null,
   "id": "80002d89",
   "metadata": {},
   "outputs": [],
   "source": [
    "len(interaction_df[interaction_df['PagesPerSecond'] < 1])"
   ]
  },
  {
   "cell_type": "code",
   "execution_count": null,
   "id": "915abfd8",
   "metadata": {},
   "outputs": [],
   "source": [
    "# good readers ~ better than 1 page per minute \n",
    "len(interaction_df[interaction_df['PagesPerSecond'] < 0.01])"
   ]
  },
  {
   "cell_type": "markdown",
   "metadata": {},
   "source": [
    "### Ultra Long Readers"
   ]
  },
  {
   "cell_type": "code",
   "execution_count": null,
   "metadata": {},
   "outputs": [],
   "source": [
    "# who are these long readers\n",
    "fields = ['InteractionId', 'PageViewEvent','PageDuration','ItemCount','PagesPerMinute','InteractionDuration','FirstInteraction']\n",
    "interaction_df[interaction_df['PageDuration'] > 100][fields]"
   ]
  },
  {
   "cell_type": "code",
   "execution_count": null,
   "metadata": {},
   "outputs": [],
   "source": [
    "int_ids = interaction_df[interaction_df['PageDuration'] > 100]['InteractionId'].tolist()\n",
    "print(int_ids)\n",
    "long_int_df = event_df[(event_df.InteractionId.isin(int_ids)) & (event_df.EventType == 'PageViewEvent')]\n",
    "long_int_df.head(5)"
   ]
  },
  {
   "cell_type": "code",
   "execution_count": null,
   "metadata": {},
   "outputs": [],
   "source": [
    "page_sums_df = pd.get_dummies(long_int_df[['PageName']],\\\n",
    "               columns=['PageName'],\\\n",
    "               dtype=int)\\\n",
    "    .agg(['sum'])\\\n",
    "    .reset_index()\n",
    "\n",
    "page_sums_df.columns = page_sums_df.columns.get_level_values(0)\n",
    "page_sums_df = page_sums_df.rename(columns=lambda col: col.replace(\"PageName_\", \"\"))\n",
    "print(len(page_sums_df))\n",
    "print(len(page_sums_df.columns))\n",
    "page_sums_df.transpose()"
   ]
  },
  {
   "cell_type": "markdown",
   "id": "74aa4772",
   "metadata": {},
   "source": [
    "### First Interaction"
   ]
  },
  {
   "cell_type": "code",
   "execution_count": null,
   "id": "8916a2a6",
   "metadata": {},
   "outputs": [],
   "source": [
    "plot_bar_stack(interaction_df, 'FirstInteraction', 'TimestampSortDate', 'First Interaction by Year/Month')"
   ]
  },
  {
   "cell_type": "markdown",
   "id": "22ecbb9a",
   "metadata": {},
   "source": [
    "### Is Personalized"
   ]
  },
  {
   "cell_type": "code",
   "execution_count": null,
   "id": "ec20d8df",
   "metadata": {},
   "outputs": [],
   "source": [
    "plot_bar_stack(interaction_df, 'IsPersonalized', 'TimestampSortDate', 'Interactions Personalized by Year/Month')"
   ]
  },
  {
   "cell_type": "markdown",
   "id": "893f06ec",
   "metadata": {},
   "source": [
    "### Saw Campaign"
   ]
  },
  {
   "cell_type": "code",
   "execution_count": null,
   "id": "ebcc05ed",
   "metadata": {},
   "outputs": [],
   "source": [
    "plot_bar_stack(interaction_df, 'SawCampaign', 'TimestampSortDate', 'SawCampaign by Year/Month')"
   ]
  },
  {
   "cell_type": "markdown",
   "id": "c42c7e1b",
   "metadata": {},
   "source": [
    "### Campaign Event"
   ]
  },
  {
   "cell_type": "code",
   "execution_count": null,
   "id": "d343bc3f",
   "metadata": {},
   "outputs": [],
   "source": [
    "plot_bar_stack(interaction_df, 'CampaignEvent', 'TimestampSortDate', 'Campaign Event by Year/Month')"
   ]
  },
  {
   "cell_type": "markdown",
   "id": "cc9fb2fd",
   "metadata": {},
   "source": [
    "### Completed Goal"
   ]
  },
  {
   "cell_type": "code",
   "execution_count": null,
   "id": "cd19683d",
   "metadata": {},
   "outputs": [],
   "source": [
    "plot_bar_stack(interaction_df, 'CompletedGoal', 'TimestampSortDate', 'Interactions With Completed Goals by Year/Month')"
   ]
  },
  {
   "cell_type": "markdown",
   "id": "d219874d",
   "metadata": {},
   "source": [
    "### Correlations"
   ]
  },
  {
   "cell_type": "code",
   "execution_count": null,
   "id": "ce6fcafd",
   "metadata": {},
   "outputs": [],
   "source": [
    "all_aud = 'All Interactions'\n",
    "target_aud = 'Target Audience Interactions'\n",
    "\n",
    "# First Interaction\n",
    "print_corr_stats(interaction_df, 'FirstInteraction', 'CompletedGoal', all_aud)\n",
    "print_corr_stats(aud_df, 'FirstInteraction', 'CompletedGoal', target_aud)\n",
    "\n",
    "# Is Personalized \n",
    "print_corr_stats(interaction_df, 'IsPersonalized', 'CompletedGoal', all_aud)\n",
    "print_corr_stats(aud_df, 'IsPersonalized', 'CompletedGoal', target_aud)\n",
    "\n",
    "# Saw Campaign\n",
    "print_corr_stats(interaction_df, 'SawCampaign', 'CompletedGoal', all_aud)\n",
    "print_corr_stats(aud_df, 'SawCampaign', 'CompletedGoal', target_aud)"
   ]
  },
  {
   "cell_type": "markdown",
   "id": "a46f98e8",
   "metadata": {},
   "source": [
    "### Interaction Length"
   ]
  },
  {
   "cell_type": "code",
   "execution_count": null,
   "metadata": {},
   "outputs": [],
   "source": [
    "plot_boxen(interaction_df, 'TimestampSortDate', 'PageViewEvent', 'Page Views by Year/Month')"
   ]
  },
  {
   "cell_type": "code",
   "execution_count": null,
   "id": "ac083a7c",
   "metadata": {},
   "outputs": [],
   "source": [
    "line_df = interaction_df.groupby('TimestampSortDate')\\\n",
    "    .agg(\n",
    "        PageViewCount=('PageViewEvent','mean')\n",
    "    ).reset_index()\n",
    "\n",
    "plot_line(line_df, 'TimestampSortDate', 'PageViewCount', 'Avg. Page Views by Year/Month', 'Year/Month', 'Page Views')"
   ]
  },
  {
   "cell_type": "code",
   "execution_count": null,
   "id": "0feb476c",
   "metadata": {},
   "outputs": [],
   "source": [
    "plot_ridge(interaction_df, 'PageViewEvent', \"01-Feb-2023\", '01-Oct-2024', 5)"
   ]
  },
  {
   "cell_type": "code",
   "execution_count": null,
   "metadata": {},
   "outputs": [],
   "source": [
    "plot_ridge(aud_df, 'PageViewEvent', \"01-Feb-2023\", '01-Oct-2024', 5)"
   ]
  },
  {
   "cell_type": "markdown",
   "metadata": {},
   "source": [
    "### Engagement Value"
   ]
  },
  {
   "cell_type": "code",
   "execution_count": null,
   "metadata": {},
   "outputs": [],
   "source": [
    "plot_ridge_metric(interaction_df, 'EngagementValue')"
   ]
  },
  {
   "cell_type": "code",
   "execution_count": null,
   "metadata": {},
   "outputs": [],
   "source": [
    "plot_ridge_metric(aud_df, 'EngagementValue')"
   ]
  },
  {
   "cell_type": "code",
   "execution_count": null,
   "metadata": {},
   "outputs": [],
   "source": [
    "aud_df['PageViewEvent'].hist(bins=100)"
   ]
  },
  {
   "cell_type": "markdown",
   "metadata": {},
   "source": [
    "### IP Map"
   ]
  },
  {
   "cell_type": "code",
   "execution_count": null,
   "metadata": {},
   "outputs": [],
   "source": [
    "# query the ips from the db, merge the ips to the lat/lon\n",
    "# merge the lat/lon/ips to the interactions \n",
    "# then filter out null ips\n",
    "# then group by lat and lon and aggregate engagement values and errors and page events\n",
    "\n",
    "ip_int_df = interaction_df.merge(ip_int_df, on='InteractionId', how='left')\n",
    "ip_int_df = ip_int_df.dropna(subset=['lat'])\n",
    "ip_int_df = ip_int_df[ip_int_df['PageDurationInSeconds'] > 0]\n",
    "ip_int_df = ip_int_df[ip_int_df['PagesPerSecond'] > 0]\n",
    "ip_int_df['PageDurationInSeconds'] = ip_int_df['PageDurationInSeconds'].astype(float)\n",
    "ip_int_df['PagesPerSecond'] = ip_int_df['PagesPerSecond'].astype(float)\n",
    "\n",
    "group_df = ip_int_df.groupby(['lat', 'lon'])\\\n",
    "    .agg(\n",
    "        EngagementValue=('EngagementValue','sum'),\n",
    "        ItemCount=('ItemCount','sum'),\n",
    "        AvgReadTime=('PageDuration', lambda x: x.mean()),\n",
    "        PageViews=('PageViewEvent', 'sum'),\n",
    "        Errors=('Error', 'sum'),\n",
    "        AvgPagesPerMinute=('PagesPerMinute', lambda x: x.mean()),\n",
    "        InteractionCount=('InteractionId', 'count'),\n",
    "    ).reset_index()"
   ]
  },
  {
   "cell_type": "code",
   "execution_count": null,
   "metadata": {},
   "outputs": [],
   "source": [
    "m = plot_map_ev(group_df, \n",
    "                color_field='ItemCount', \n",
    "                fill_color_field='AvgPagesPerMinute', \n",
    "                radius_field='AvgReadTime',\n",
    "                point_size=2)\n",
    "m.save('choropleth_map.html')\n",
    "m"
   ]
  },
  {
   "cell_type": "markdown",
   "metadata": {},
   "source": [
    "# Contacts"
   ]
  },
  {
   "cell_type": "markdown",
   "metadata": {},
   "source": [
    "## Query"
   ]
  },
  {
   "cell_type": "code",
   "execution_count": 36,
   "metadata": {},
   "outputs": [],
   "source": [
    "contact_query = '''\n",
    "SELECT [ContactId]\n",
    "      ,[InteractionCount]\n",
    "      ,[TotalEngagementValue]\n",
    "      ,[ItemCount]\n",
    "      ,[FirstVisit]\n",
    "      ,[LastVisit]\n",
    "      ,[CampaignsSeen]\n",
    "      ,[MaxInteractionsPerDay]\n",
    "      ,[MaxPagesPerMinute]\n",
    "      ,[CampaignEvents]\n",
    "      ,[ChangeProfileScores]\n",
    "      ,[Errors]\n",
    "      ,[GenericEvents]\n",
    "      ,[Goals]\n",
    "      ,[MVTestsTriggered]\n",
    "      ,[PagesViewed]\n",
    "      ,[PersonalizationEvents]\n",
    "      ,[Lifetime]\n",
    "      ,[VisitFrequency]\n",
    "      ,[KnownContact]\n",
    "  FROM [mart_schema].[Contacts]\n",
    "'''"
   ]
  },
  {
   "cell_type": "code",
   "execution_count": null,
   "metadata": {},
   "outputs": [],
   "source": [
    "with connection_engine.begin() as connection:\n",
    "    contact_df = pd.read_sql_query(sa.text(contact_query), connection)"
   ]
  },
  {
   "cell_type": "markdown",
   "metadata": {},
   "source": [
    "## Stats"
   ]
  },
  {
   "cell_type": "code",
   "execution_count": null,
   "metadata": {},
   "outputs": [],
   "source": [
    "len(contact_df)"
   ]
  },
  {
   "cell_type": "code",
   "execution_count": null,
   "metadata": {},
   "outputs": [],
   "source": [
    "contact_df.info()"
   ]
  },
  {
   "cell_type": "code",
   "execution_count": null,
   "id": "08631066",
   "metadata": {},
   "outputs": [],
   "source": [
    "contact_df.head(2).transpose()"
   ]
  },
  {
   "cell_type": "code",
   "execution_count": null,
   "metadata": {},
   "outputs": [],
   "source": [
    "print(f\"{np.mean(contact_df['InteractionCount']):.2f} Average Interactions\")\n",
    "print(f\"{np.mean(contact_df['TotalEngagementValue']):.2f} Average Engagement Value\")\n",
    "print(f\"{np.mean(contact_df['ItemCount']):.2f} Average Items\")\n",
    "print(f\"{np.mean(contact_df['PagesViewed']):.2f} Page Views\")\n",
    "print(f\"{np.mean(contact_df['Lifetime']):.2f} Lifetime\")"
   ]
  },
  {
   "cell_type": "code",
   "execution_count": null,
   "metadata": {},
   "outputs": [],
   "source": [
    "pd.set_option('display.max_rows', None)\n",
    "print(contact_df.InteractionCount.value_counts())"
   ]
  },
  {
   "cell_type": "markdown",
   "metadata": {},
   "source": [
    "## Plots"
   ]
  },
  {
   "cell_type": "markdown",
   "id": "4b3d87e1",
   "metadata": {},
   "source": [
    "### Distributions"
   ]
  },
  {
   "cell_type": "code",
   "execution_count": null,
   "id": "7371caec",
   "metadata": {},
   "outputs": [],
   "source": [
    "values = ['InteractionCount','TotalEngagementValue']#,'ItemCount','Lifetime','CampaignsSeen','MaxPagesPerMinute','MaxInteractionsPerDay']\n",
    "for v in values:\n",
    "    plot_hist_numeric(contact_df, v, title=f'Distribution of {v}')"
   ]
  },
  {
   "cell_type": "markdown",
   "id": "6193f8ed",
   "metadata": {},
   "source": [
    "### Lifetime"
   ]
  },
  {
   "cell_type": "code",
   "execution_count": null,
   "id": "21c9b932",
   "metadata": {},
   "outputs": [],
   "source": [
    "plot_hist_numeric(contact_df, 'Lifetime', title='Lifetime Distribution')"
   ]
  },
  {
   "cell_type": "code",
   "execution_count": null,
   "id": "6d809cfa",
   "metadata": {},
   "outputs": [],
   "source": [
    "plt.figure(figsize=(10, 6))\n",
    "sns.histplot(contact_df[contact_df['Lifetime'] < 200]['Lifetime'], bins=10)\n",
    "plt.xticks(rotation=90, ha='center')\n",
    "plt.title('Lifetime < 200 Distribution')\n",
    "plt.show()"
   ]
  },
  {
   "cell_type": "code",
   "execution_count": null,
   "id": "e043c083",
   "metadata": {},
   "outputs": [],
   "source": [
    "plt.figure(figsize=(10, 6))\n",
    "sns.histplot(contact_df[contact_df['Lifetime'] < 25]['Lifetime'], bins=10)\n",
    "plt.xticks(rotation=90, ha='center')\n",
    "plt.title('Lifetime < 25 Distribution')\n",
    "plt.show()"
   ]
  },
  {
   "cell_type": "code",
   "execution_count": null,
   "id": "3ae7493d",
   "metadata": {},
   "outputs": [],
   "source": [
    "plt.figure(figsize=(10, 6))\n",
    "sns.histplot(contact_df[contact_df['Lifetime'] < 5]['Lifetime'], bins=10)\n",
    "plt.xticks(rotation=90, ha='center')\n",
    "plt.title('Lifetime < 5 Distribution')\n",
    "plt.show()"
   ]
  },
  {
   "cell_type": "code",
   "execution_count": null,
   "id": "af03f10c",
   "metadata": {},
   "outputs": [],
   "source": [
    "plt.figure(figsize=(10, 6))\n",
    "sns.histplot(contact_df[contact_df['Lifetime'] > 1]['Lifetime'], bins=10)\n",
    "plt.xticks(rotation=90, ha='center')\n",
    "plt.title('Lifetime > 1 Distribution')\n",
    "plt.show()"
   ]
  },
  {
   "cell_type": "code",
   "execution_count": null,
   "id": "87575055",
   "metadata": {},
   "outputs": [],
   "source": [
    "plt.figure(figsize=(10, 6))\n",
    "sns.histplot(contact_df[contact_df['Lifetime'] > 50]['Lifetime'], bins=10)\n",
    "plt.xticks(rotation=90, ha='center')\n",
    "plt.title('Lifetime > 50 Distribution')\n",
    "plt.show()"
   ]
  },
  {
   "cell_type": "code",
   "execution_count": null,
   "id": "350ddc4e",
   "metadata": {},
   "outputs": [],
   "source": [
    "plt.figure(figsize=(10, 6))\n",
    "sns.histplot(contact_df[contact_df['Lifetime'] > 600]['Lifetime'], bins=10)\n",
    "plt.xticks(rotation=90, ha='center')\n",
    "plt.title('Lifetime > 600 Distribution')\n",
    "plt.show()"
   ]
  },
  {
   "cell_type": "markdown",
   "metadata": {},
   "source": [
    "### Customer Lifetime Value"
   ]
  },
  {
   "cell_type": "code",
   "execution_count": 187,
   "metadata": {},
   "outputs": [],
   "source": [
    "def measure_customer_values(data):\n",
    "    avg_ev = np.mean(data['TotalEngagementValue'])\n",
    "    avg_cl = np.mean(data['Lifetime'])\n",
    "    clv = avg_ev * avg_cl\n",
    "    print(f'Avg Engagement Value {(avg_ev):.2f}')\n",
    "    print(f'Avg Lifetime {(avg_cl):.2f}')\n",
    "    print(f'Customer Lifetime (Engagement) Value {(clv):.2f}')"
   ]
  },
  {
   "cell_type": "code",
   "execution_count": null,
   "metadata": {},
   "outputs": [],
   "source": [
    "# average customer engagement value * average customer lifetime\n",
    "measure_customer_values(contact_df)"
   ]
  },
  {
   "cell_type": "code",
   "execution_count": null,
   "metadata": {},
   "outputs": [],
   "source": [
    "print(len(contact_df[contact_df['KnownContact'] == 1]))\n",
    "measure_customer_values(contact_df[contact_df['KnownContact'] == 1])"
   ]
  },
  {
   "cell_type": "code",
   "execution_count": null,
   "metadata": {},
   "outputs": [],
   "source": [
    "print(len(contact_df[contact_df['KnownContact'] == 0]))\n",
    "measure_customer_values(contact_df[contact_df['KnownContact'] == 0])"
   ]
  },
  {
   "cell_type": "markdown",
   "id": "db4bf30c",
   "metadata": {},
   "source": [
    "### Visit Frequency"
   ]
  },
  {
   "cell_type": "code",
   "execution_count": null,
   "id": "3a751e86",
   "metadata": {},
   "outputs": [],
   "source": [
    "plt.figure(figsize=(10, 6))\n",
    "sns.histplot(contact_df['VisitFrequency'], bins=10)\n",
    "plt.xticks(rotation=90, ha='center')\n",
    "plt.show()"
   ]
  },
  {
   "cell_type": "code",
   "execution_count": null,
   "id": "c04d251e",
   "metadata": {},
   "outputs": [],
   "source": [
    "#plt.figure(figsize=(10, 6))\n",
    "#agg_events = contact_df.groupby(['FirstVisit'])['VisitFrequency'].count()\n",
    "#agg_events.plot(kind='bar', stacked=True)\n",
    "#plt.xticks(rotation=90, ha='center')\n",
    "#plt.show() "
   ]
  },
  {
   "cell_type": "markdown",
   "metadata": {},
   "source": [
    "### Interaction Count"
   ]
  },
  {
   "cell_type": "code",
   "execution_count": null,
   "metadata": {},
   "outputs": [],
   "source": [
    "plot_hist_numeric(contact_df, 'InteractionCount', title='Interactions per Contact', size=(14,6), x_label='Interactions', y_label='Contacts')"
   ]
  },
  {
   "cell_type": "markdown",
   "id": "5ea1eae3",
   "metadata": {},
   "source": [
    "### Max Interactions Per Day"
   ]
  },
  {
   "cell_type": "code",
   "execution_count": null,
   "id": "4bcbeb4c",
   "metadata": {},
   "outputs": [],
   "source": [
    "plt.figure(figsize=(10, 6))\n",
    "sns.histplot(data=contact_df, x=\"MaxInteractionsPerDay\")\n",
    "plt.title('Max Interactions Per Day')\n",
    "plt.show()"
   ]
  },
  {
   "cell_type": "code",
   "execution_count": null,
   "id": "6564a448",
   "metadata": {},
   "outputs": [],
   "source": [
    "plt.figure(figsize=(10, 6))\n",
    "sns.histplot(data=contact_df[contact_df['MaxInteractionsPerDay'] > 10], x=\"MaxInteractionsPerDay\")\n",
    "plt.title('Max Interactions Per Day > 10')\n",
    "plt.show()"
   ]
  },
  {
   "cell_type": "code",
   "execution_count": null,
   "id": "94f540d7",
   "metadata": {},
   "outputs": [],
   "source": [
    "plt.figure(figsize=(10, 6))\n",
    "scatter_plot = sns.scatterplot(\n",
    "    data=contact_df,\n",
    "    x=\"MaxInteractionsPerDay\", \n",
    "    y=\"MaxPagesPerMinute\",\n",
    "    size='PagesViewed',\n",
    "    hue='ItemCount',\n",
    "    palette='viridis',\n",
    "    sizes=(5, 450),  # Adjust the range of sizes if needed\n",
    "    #legend=False,\n",
    "    alpha=0.2\n",
    ")\n",
    "plt.title('Contacts')\n",
    "plt.show()"
   ]
  },
  {
   "cell_type": "markdown",
   "metadata": {},
   "source": [
    "### Interaction Count x Max Interactions Per Day"
   ]
  },
  {
   "cell_type": "code",
   "execution_count": null,
   "metadata": {},
   "outputs": [],
   "source": [
    "print(f\"{contact_df[contact_df['MaxInteractionsPerDay'] > 10]['InteractionCount'].min()} Min InteractionsPerDay\")\n",
    "print(f\"{len(contact_df[contact_df['MaxInteractionsPerDay'] > 10])} Contacts\")\n",
    "print(f\"{len(contact_df[contact_df['InteractionCount'] > 2*contact_df['MaxInteractionsPerDay']])} Contacts\")"
   ]
  },
  {
   "cell_type": "code",
   "execution_count": null,
   "metadata": {},
   "outputs": [],
   "source": [
    "cond1 = (contact_df['MaxInteractionsPerDay'] > 5)\n",
    "cond2 = (contact_df['InteractionCount'] < 500)\n",
    "\n",
    "plot_scatter(contact_df[cond1], \n",
    "             'InteractionCount', 'MaxInteractionsPerDay', 'ItemCount', 'PagesViewed', \n",
    "             title=\"Max Interactions per Day > 5\", \n",
    "             show_legend=True, plot_size=(15,6), colors=None, alpha=0.5, x_label='Interaction Count', y_label='Max Interactions Per Day')\n",
    "\n",
    "plot_scatter(contact_df[cond1 & cond2], \n",
    "             'InteractionCount', 'MaxInteractionsPerDay', 'ItemCount', 'PagesViewed', \n",
    "             title=\"Max Interactions per Day > 5 and Interaction Count < 500\", \n",
    "             show_legend=True, plot_size=(15,6), colors=None, alpha=0.5, x_label='Interaction Count', y_label='Max Interactions Per Day')"
   ]
  },
  {
   "cell_type": "markdown",
   "metadata": {},
   "source": [
    "### Correlation for Personalization Events and Goals"
   ]
  },
  {
   "cell_type": "code",
   "execution_count": null,
   "metadata": {},
   "outputs": [],
   "source": [
    "print_corr_stats(contact_df[(~contact_df['PersonalizationEvents'].isna()) & (~contact_df['Goals'].isna())], 'PersonalizationEvents', 'Goals', 'All Contacts')\n",
    "\n",
    "print_corr_stats(contact_df[(~contact_df['PagesViewed'].isna()) & (~contact_df['Goals'].isna())], 'PagesViewed', 'Goals', 'All Contacts')\n",
    "\n",
    "print_corr_stats(contact_df[(~contact_df['PagesViewed'].isna()) & (~contact_df['PersonalizationEvents'].isna())], 'PagesViewed', 'PersonalizationEvents', 'All Contacts')\n",
    "\n",
    "print_corr_stats(contact_df[(~contact_df['CampaignEvents'].isna()) & (~contact_df['Goals'].isna())], 'CampaignEvents', 'Goals', 'All Contacts')"
   ]
  },
  {
   "cell_type": "code",
   "execution_count": null,
   "metadata": {},
   "outputs": [],
   "source": [
    "plot_scatter(contact_df[(~contact_df['PersonalizationEvents'].isna()) & (~contact_df['Goals'].isna())], \n",
    "             'PersonalizationEvents', 'Goals', 'PagesViewed', 'KnownContact', \n",
    "             title=\"Personalization x Goals\", \n",
    "             show_legend=True, plot_size=(15,6), colors=None, alpha=0.5, x_label='Personalization Events', y_label='Goals')"
   ]
  },
  {
   "cell_type": "markdown",
   "id": "96390dc4",
   "metadata": {},
   "source": [
    "### Max Page Per Minute"
   ]
  },
  {
   "cell_type": "code",
   "execution_count": null,
   "id": "d08bbfea",
   "metadata": {},
   "outputs": [],
   "source": [
    "plt.figure(figsize=(10, 6))\n",
    "contact_df['MaxPagesPerMinute'].hist(bins=100)\n",
    "plt.title('Max Pages Per Minute')\n",
    "plt.show()"
   ]
  },
  {
   "cell_type": "code",
   "execution_count": null,
   "id": "c882177c",
   "metadata": {},
   "outputs": [],
   "source": [
    "plt.figure(figsize=(10, 6))\n",
    "scatter_plot = sns.scatterplot(\n",
    "    data=contact_df,\n",
    "    x='MaxPagesPerMinute',\n",
    "    y='PagesViewed',\n",
    "    size='ItemCount',\n",
    "    hue='InteractionCount',\n",
    "    palette='viridis',\n",
    "    sizes=(0, 450),  # Adjust the range of sizes if needed\n",
    "    legend=False\n",
    ")\n",
    "plt.title('all data')\n",
    "plt.show()"
   ]
  },
  {
   "cell_type": "markdown",
   "id": "5420994d",
   "metadata": {},
   "source": [
    "### Item Count"
   ]
  },
  {
   "cell_type": "code",
   "execution_count": null,
   "id": "093be752",
   "metadata": {},
   "outputs": [],
   "source": [
    "plt.figure(figsize=(10, 6))\n",
    "scatter_plot = sns.scatterplot(\n",
    "    data=contact_df,\n",
    "    x='ItemCount',\n",
    "    y='InteractionCount',\n",
    "    size='TotalEngagementValue',\n",
    "    hue='Lifetime',\n",
    "    palette='viridis',\n",
    "    sizes=(5, 450),  # Adjust the range of sizes if needed\n",
    "    legend=False\n",
    ")\n",
    "plt.show()"
   ]
  }
 ],
 "metadata": {
  "kernelspec": {
   "display_name": "base",
   "language": "python",
   "name": "python3"
  },
  "language_info": {
   "codemirror_mode": {
    "name": "ipython",
    "version": 3
   },
   "file_extension": ".py",
   "mimetype": "text/x-python",
   "name": "python",
   "nbconvert_exporter": "python",
   "pygments_lexer": "ipython3",
   "version": "3.12.4"
  }
 },
 "nbformat": 4,
 "nbformat_minor": 5
}
