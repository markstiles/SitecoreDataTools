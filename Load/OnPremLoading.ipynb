{
 "cells": [
  {
   "cell_type": "markdown",
   "id": "df2ff684-f9d9-436c-92c2-7e5d03c516dd",
   "metadata": {
    "jp-MarkdownHeadingCollapsed": true,
    "tags": []
   },
   "source": [
    "# Includes"
   ]
  },
  {
   "cell_type": "code",
   "execution_count": null,
   "id": "5c103aae-4ee8-4aea-9e1d-8a84b0676a29",
   "metadata": {},
   "outputs": [],
   "source": [
    "# SQL\n",
    "import pyodbc \n",
    "import sqlalchemy as sa\n",
    "from sqlalchemy.engine import URL\n",
    "from sqlalchemy import create_engine\n",
    "\n",
    "# file system\n",
    "import os\n",
    "\n",
    "# timing\n",
    "import time\n",
    "\n",
    "# utility\n",
    "import re\n",
    "import yaml\n",
    "\n",
    "# dbt\n",
    "import sys \n",
    "import dbt\n",
    "from dbt.cli.main import dbtRunner, dbtRunnerResult"
   ]
  },
  {
   "cell_type": "markdown",
   "metadata": {},
   "source": [
    "# Variables"
   ]
  },
  {
   "cell_type": "code",
   "execution_count": null,
   "metadata": {},
   "outputs": [],
   "source": [
    "server = None\n",
    "port = None\n",
    "warehouse = None\n",
    "shard0 = None\n",
    "shard1 = None\n",
    "items = None\n",
    "username = None\n",
    "password = None\n",
    "\n",
    "target = 'dev'\n",
    "profile = 'sitecore_warehouse'\n",
    "\n",
    "start_path = os.path.expanduser(\"~\\\\.dbt\\\\\")\n",
    "with open(f\"{start_path}profiles.yml\", \"r\", encoding=\"utf-8\") as f: \n",
    "    config = yaml.safe_load(f) \n",
    "    server = config[profile][\"outputs\"][target][\"server\"]\n",
    "    port = config[profile][\"outputs\"][target][\"port\"]\n",
    "    warehouse = config[profile][\"outputs\"][target][\"database\"]\n",
    "    shard0 = config[profile][\"outputs\"][target][\"database_shard0\"]\n",
    "    shard1 = config[profile][\"outputs\"][target][\"database_shard1\"]\n",
    "    items = config[profile][\"outputs\"][target][\"database_items\"]\n",
    "    username = config[profile][\"outputs\"][target][\"user\"]\n",
    "    password = config[profile][\"outputs\"][target][\"password\"]"
   ]
  },
  {
   "cell_type": "markdown",
   "id": "69c0554e",
   "metadata": {},
   "source": [
    "# Database Connection"
   ]
  },
  {
   "cell_type": "code",
   "execution_count": null,
   "id": "bcb91530-e2b5-4ff0-b259-6cb7df5c4ac0",
   "metadata": {},
   "outputs": [],
   "source": [
    "connection_string = f'''Driver={{SQL Server}};\n",
    "                        Server={server};\n",
    "                        Port={port};\n",
    "                        Database={warehouse};\n",
    "                        uid={username};\n",
    "                        pwd={password};'''\n",
    "connection_url = URL.create(\"mssql+pyodbc\", query={\"odbc_connect\": connection_string})\n",
    "connection_engine = create_engine(connection_url)"
   ]
  },
  {
   "cell_type": "markdown",
   "id": "f593d7f4",
   "metadata": {},
   "source": [
    "# Functions"
   ]
  },
  {
   "cell_type": "code",
   "execution_count": null,
   "id": "6d64f66e",
   "metadata": {},
   "outputs": [],
   "source": [
    "def run_script(script):\n",
    "    with connection_engine.connect() as connection:\n",
    "        script_start = time.time()\n",
    "        with open(f'on-prem/{script}', \"r\", encoding='utf-8') as file:\n",
    "            statements = file.read().split(\"GO--\")\n",
    "            for stmt in statements:\n",
    "                stmt = stmt.strip()\n",
    "                if stmt:                    \n",
    "                    stmt = stmt.replace('${warehouse}', warehouse)\n",
    "                    stmt = stmt.replace('${items}', items)\n",
    "                    stmt = stmt.replace('${shard0}', shard0)\n",
    "                    stmt = stmt.replace('${shard1}', shard1)\n",
    "                    connection.execute(sa.text(stmt))\n",
    "                    connection.commit()\n",
    "        script_end = time.time()\n",
    "        print(f\"Script {script} took {((script_end - script_start) / 60):.1f} minutes to complete.\")"
   ]
  },
  {
   "cell_type": "code",
   "execution_count": 13,
   "id": "72df0336",
   "metadata": {},
   "outputs": [],
   "source": [
    "def run_dbt(args):\n",
    "\n",
    "    # initialize\n",
    "    dbt = dbtRunner()\n",
    "\n",
    "    # run the command\n",
    "    res: dbtRunnerResult = dbt.invoke(args)\n",
    "\n",
    "    #for r in res.result:\n",
    "    #    print(f\"{r.node.name}: {r.status}\")\n"
   ]
  },
  {
   "cell_type": "markdown",
   "id": "65890300",
   "metadata": {},
   "source": [
    "# Extract and Load"
   ]
  },
  {
   "cell_type": "code",
   "execution_count": null,
   "metadata": {},
   "outputs": [],
   "source": [
    "script_arr = [\n",
    "    # EXTRACTION 1 - XDB EXTRACT\n",
    "    \"ContactFacets-Classification.sql\"\n",
    "    ,\"ContactFacets-ContactBehaviorProfile.sql\"\n",
    "    ,\"ContactFacets-Emails.sql\"\n",
    "    ,\"ContactFacets-EngagementMeasures.sql\"\n",
    "    ,\"ContactFacets-Personal.sql\"\n",
    "    ,\"ContactFacets-TestCombinations.sql\"\n",
    "    ,\"InteractionFacets-IP.sql\"\n",
    "    ,\"InteractionFacets-ProfileScores.sql\"\n",
    "    ,\"InteractionFacets-UserAgentInfo.sql\"\n",
    "    ,\"InteractionFacets-WebVisit.sql\"\n",
    "    ,\"Interactions-Events.sql\"\n",
    "    # EXTRACTION 2 - VALUE UPDATES AND PERSONA/RULE JSON EXTRACT\n",
    "    ,\"Interactions-Events-ValueUpdates.sql\"\n",
    "    ,\"Interactions-Events-EligibleRules.sql\"\n",
    "    ,\"Interactions-Events-ExposedRules.sql\"\n",
    "    ,\"Interactions-Events-Delta.sql\"\n",
    "    # EXTRACTION 3 - CONTENT LOOKUP\n",
    "    ,\"Items-Campaigns.sql\"\n",
    "    ,\"Items-Goals.sql\"\n",
    "    ,\"Items-Pages.sql\"\n",
    "    ,\"Items-Profiles.sql\"\n",
    "]"
   ]
  },
  {
   "cell_type": "code",
   "execution_count": null,
   "id": "6ba7909f-e63c-4239-ae12-2e91d1971318",
   "metadata": {},
   "outputs": [],
   "source": [
    "start_time = time.time()\n",
    "\n",
    "for script in script_arr:\n",
    "    run_script(script)\n",
    "    \n",
    "end_time = time.time()\n",
    "print(f\"All scripts took {((end_time - start_time) / 60):.1f} minutes to complete.\")"
   ]
  }
 ],
 "metadata": {
  "kernelspec": {
   "display_name": "base",
   "language": "python",
   "name": "python3"
  },
  "language_info": {
   "codemirror_mode": {
    "name": "ipython",
    "version": 3
   },
   "file_extension": ".py",
   "mimetype": "text/x-python",
   "name": "python",
   "nbconvert_exporter": "python",
   "pygments_lexer": "ipython3",
   "version": "3.12.4"
  }
 },
 "nbformat": 4,
 "nbformat_minor": 5
}
