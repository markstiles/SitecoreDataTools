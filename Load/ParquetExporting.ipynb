{
 "cells": [
  {
   "cell_type": "markdown",
   "id": "df2ff684-f9d9-436c-92c2-7e5d03c516dd",
   "metadata": {
    "jp-MarkdownHeadingCollapsed": true,
    "tags": []
   },
   "source": [
    "# Includes"
   ]
  },
  {
   "cell_type": "code",
   "execution_count": null,
   "id": "5c103aae-4ee8-4aea-9e1d-8a84b0676a29",
   "metadata": {},
   "outputs": [],
   "source": [
    "# SQL\n",
    "import sqlalchemy as sa\n",
    "from sqlalchemy.engine import URL\n",
    "from sqlalchemy import create_engine\n",
    "import duckdb\n",
    "\n",
    "# file system\n",
    "import os\n",
    "\n",
    "# data manipulation\n",
    "import pandas as pd\n",
    "\n",
    "# timing\n",
    "from time import time\n",
    "\n",
    "# utility\n",
    "import yaml"
   ]
  },
  {
   "cell_type": "markdown",
   "metadata": {},
   "source": [
    "# Variables"
   ]
  },
  {
   "cell_type": "code",
   "execution_count": null,
   "metadata": {},
   "outputs": [],
   "source": [
    "server = None\n",
    "port = None\n",
    "warehouse = None\n",
    "shard0 = None\n",
    "shard1 = None\n",
    "items = None\n",
    "username = None\n",
    "password = None\n",
    "\n",
    "target = 'dev'\n",
    "profile = 'sitecore_warehouse'\n",
    "\n",
    "start_path = os.path.expanduser(\"~\\\\.dbt\\\\\")\n",
    "with open(f\"{start_path}profiles.yml\", \"r\", encoding=\"utf-8\") as f: \n",
    "    config = yaml.safe_load(f) \n",
    "    server = config[profile][\"outputs\"][target][\"server\"]\n",
    "    port = config[profile][\"outputs\"][target][\"port\"]\n",
    "    warehouse = config[profile][\"outputs\"][target][\"database\"]\n",
    "    shard0 = config[profile][\"outputs\"][target][\"database_shard0\"]\n",
    "    shard1 = config[profile][\"outputs\"][target][\"database_shard1\"]\n",
    "    items = config[profile][\"outputs\"][target][\"database_items\"]\n",
    "    username = config[profile][\"outputs\"][target][\"user\"]\n",
    "    password = config[profile][\"outputs\"][target][\"password\"]"
   ]
  },
  {
   "cell_type": "markdown",
   "id": "69c0554e",
   "metadata": {},
   "source": [
    "# Connection"
   ]
  },
  {
   "cell_type": "code",
   "execution_count": null,
   "id": "bcb91530-e2b5-4ff0-b259-6cb7df5c4ac0",
   "metadata": {},
   "outputs": [],
   "source": [
    "connection_string = f'''Driver={{SQL Server}};\n",
    "                        Server={server};\n",
    "                        Port={port};\n",
    "                        Database={warehouse};\n",
    "                        uid={username};\n",
    "                        pwd={password};'''\n",
    "connection_url = URL.create(\"mssql+pyodbc\", query={\"odbc_connect\": connection_string})\n",
    "connection_engine = create_engine(connection_url)"
   ]
  },
  {
   "cell_type": "markdown",
   "metadata": {},
   "source": [
    "# Export to Parquet"
   ]
  },
  {
   "cell_type": "code",
   "execution_count": null,
   "metadata": {},
   "outputs": [],
   "source": [
    "def get_tables_in_schema(schema):\n",
    "    \"\"\" get table list from schema \"\"\"\n",
    "    sql = f\"\"\"select tab.name as [table]\n",
    "\t\t      from sys.tables tab\n",
    "\t\t      where schema_name(tab.schema_id)='{schema}'\"\"\"\n",
    "    df = pd.read_sql(sql, connection_engine)\n",
    "    return df['table'].values.tolist()\n",
    "\n",
    "def export_table_to_parquet(schema, table):\n",
    "    \"\"\" export table to parquet \"\"\"\n",
    "    time_step = time()\n",
    "    print(\"Exporting: \", table)\n",
    "    sql = f\"SELECT * FROM {schema}.{table}\"\n",
    "    lines = 0\n",
    "    with connection_engine.connect().execution_options(stream_results=True) as connection:\n",
    "        for i, df in enumerate(pd.read_sql(sql, connection, chunksize=1000000)):\n",
    "            # by chunk of 1M rows if needed\n",
    "            t_step = time()\n",
    "            file_name = table + ('' if i==0 else f'_{i}m')\n",
    "            duckdb.sql(f\"copy df to 'parquet/{table}/{file_name}.parquet' (format parquet)\")\n",
    "            lines += df.shape[0]\n",
    "            print('  ', file_name, df.shape[0], f'lines ({round(time() - t_step, 2)}s)')\n",
    "    print(\"  \", lines, f\"lines exported {'' if i==0 else f' in {i} files'} ({round(time() - time_step, 2)}s)\")\n",
    "\n",
    "schema = 'mart_schema'\n",
    "for table in get_tables_in_schema(schema): \n",
    "    directory = f\"parquet/{table}\"\n",
    "    os.makedirs(directory, exist_ok=True)\n",
    "    export_table_to_parquet(schema, table)"
   ]
  }
 ],
 "metadata": {
  "kernelspec": {
   "display_name": "base",
   "language": "python",
   "name": "python3"
  },
  "language_info": {
   "codemirror_mode": {
    "name": "ipython",
    "version": 3
   },
   "file_extension": ".py",
   "mimetype": "text/x-python",
   "name": "python",
   "nbconvert_exporter": "python",
   "pygments_lexer": "ipython3",
   "version": "3.12.4"
  }
 },
 "nbformat": 4,
 "nbformat_minor": 5
}
