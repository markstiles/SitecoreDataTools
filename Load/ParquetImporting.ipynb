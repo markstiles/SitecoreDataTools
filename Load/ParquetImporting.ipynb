{
 "cells": [
  {
   "cell_type": "markdown",
   "id": "df2ff684-f9d9-436c-92c2-7e5d03c516dd",
   "metadata": {
    "jp-MarkdownHeadingCollapsed": true,
    "tags": []
   },
   "source": [
    "# Includes"
   ]
  },
  {
   "cell_type": "code",
   "execution_count": null,
   "id": "5c103aae-4ee8-4aea-9e1d-8a84b0676a29",
   "metadata": {},
   "outputs": [],
   "source": [
    "# SQL\n",
    "import sqlalchemy as sa\n",
    "from sqlalchemy.engine import URL\n",
    "from sqlalchemy import create_engine\n",
    "import duckdb\n",
    "\n",
    "# file system\n",
    "import os\n",
    "\n",
    "# data manipulation\n",
    "import pandas as pd\n",
    "\n",
    "# timing\n",
    "from time import time\n",
    "\n",
    "# utility\n",
    "import yaml"
   ]
  },
  {
   "cell_type": "markdown",
   "metadata": {},
   "source": [
    "# Variables"
   ]
  },
  {
   "cell_type": "code",
   "execution_count": null,
   "metadata": {},
   "outputs": [],
   "source": [
    "server = None\n",
    "port = None\n",
    "warehouse = None\n",
    "shard0 = None\n",
    "shard1 = None\n",
    "items = None\n",
    "username = None\n",
    "password = None\n",
    "\n",
    "target = 'dev'\n",
    "profile = 'sitecore_warehouse'\n",
    "\n",
    "start_path = os.path.expanduser(\"~\\\\.dbt\\\\\")\n",
    "with open(f\"{start_path}profiles.yml\", \"r\", encoding=\"utf-8\") as f: \n",
    "    config = yaml.safe_load(f) \n",
    "    server = config[profile][\"outputs\"][target][\"server\"]\n",
    "    port = config[profile][\"outputs\"][target][\"port\"]\n",
    "    warehouse = config[profile][\"outputs\"][target][\"database\"]\n",
    "    shard0 = config[profile][\"outputs\"][target][\"database_shard0\"]\n",
    "    shard1 = config[profile][\"outputs\"][target][\"database_shard1\"]\n",
    "    items = config[profile][\"outputs\"][target][\"database_items\"]\n",
    "    username = config[profile][\"outputs\"][target][\"user\"]\n",
    "    password = config[profile][\"outputs\"][target][\"password\"]"
   ]
  },
  {
   "cell_type": "markdown",
   "id": "69c0554e",
   "metadata": {},
   "source": [
    "# Connection"
   ]
  },
  {
   "cell_type": "code",
   "execution_count": null,
   "id": "bcb91530-e2b5-4ff0-b259-6cb7df5c4ac0",
   "metadata": {},
   "outputs": [],
   "source": [
    "connection_string = f'''Driver={{SQL Server}};\n",
    "                        Server={server};\n",
    "                        Port={port};\n",
    "                        Database={warehouse};\n",
    "                        uid={username};\n",
    "                        pwd={password};'''\n",
    "connection_url = URL.create(\"mssql+pyodbc\", query={\"odbc_connect\": connection_string}, fast_executemany=True)\n",
    "connection_engine = create_engine(connection_url)"
   ]
  },
  {
   "cell_type": "markdown",
   "metadata": {},
   "source": [
    "# Functions"
   ]
  },
  {
   "cell_type": "code",
   "execution_count": null,
   "id": "47b160b1",
   "metadata": {},
   "outputs": [],
   "source": [
    "def import_data(table_list):\n",
    "    for table in table_list:\n",
    "        filepath = f'parquet/{table}.parquet'\n",
    "        df = pd.read_parquet(filepath, engine='fastparquet')\n",
    "        df.to_sql(name=table, con=connection_engine, if_exists='append', chunksize=1000, index=False)"
   ]
  },
  {
   "cell_type": "code",
   "execution_count": null,
   "id": "6546eb96",
   "metadata": {},
   "outputs": [],
   "source": [
    "# cursor = connection_engine.cursor()\n",
    "# from pandas import read_parquet\n",
    "# df = read_parquet('<file-path>', engine='fastparquet')\n",
    "# df.fillna(value='', inplace=True)\n",
    "# for index, row in df.iterrows():\n",
    "#      sql = \"INSERT INTO \" +  + \"([\" + cols + \"]) VALUES (\" + \"?,\" * (len(row) - 1) + \"?)\"\n",
    "#      cursor.execute(sql, tuple(row))\n",
    "#      connection_engine.commit()"
   ]
  },
  {
   "cell_type": "markdown",
   "metadata": {},
   "source": [
    "# Export to Parquet"
   ]
  },
  {
   "cell_type": "code",
   "execution_count": null,
   "metadata": {},
   "outputs": [],
   "source": [
    "table_list = [\n",
    "    'cdp_guests', \n",
    "    'cdp_sessions',\n",
    "    'cdp_events'\n",
    "]\n",
    "\n",
    "import_data(table_list)"
   ]
  }
 ],
 "metadata": {
  "kernelspec": {
   "display_name": "base",
   "language": "python",
   "name": "python3"
  },
  "language_info": {
   "codemirror_mode": {
    "name": "ipython",
    "version": 3
   },
   "file_extension": ".py",
   "mimetype": "text/x-python",
   "name": "python",
   "nbconvert_exporter": "python",
   "pygments_lexer": "ipython3",
   "version": "3.12.4"
  }
 },
 "nbformat": 4,
 "nbformat_minor": 5
}
